{
  "nbformat": 4,
  "nbformat_minor": 0,
  "metadata": {
    "kernelspec": {
      "display_name": "Python 3",
      "language": "python",
      "name": "python3"
    },
    "colab": {
      "name": "lesson6-rossmann(hyeseon).ipynb",
      "provenance": [],
      "include_colab_link": true
    },
    "accelerator": "GPU"
  },
  "cells": [
    {
      "cell_type": "markdown",
      "metadata": {
        "id": "view-in-github",
        "colab_type": "text"
      },
      "source": [
        "<a href=\"https://colab.research.google.com/github/hane94/Machine-Learning-Practice/blob/master/lesson6_rossmann(hyeseon).ipynb\" target=\"_parent\"><img src=\"https://colab.research.google.com/assets/colab-badge.svg\" alt=\"Open In Colab\"/></a>"
      ]
    },
    {
      "cell_type": "code",
      "metadata": {
        "id": "jm9i-zKRjaZa",
        "colab_type": "code",
        "colab": {}
      },
      "source": [
        "%reload_ext autoreload\n",
        "%autoreload 2"
      ],
      "execution_count": 0,
      "outputs": []
    },
    {
      "cell_type": "code",
      "metadata": {
        "id": "yLoVGh1dAMTz",
        "colab_type": "code",
        "colab": {
          "base_uri": "https://localhost:8080/",
          "height": 36
        },
        "outputId": "1c104e4f-3b22-4ff9-921c-9385fd2194d0"
      },
      "source": [
        "from google.colab import drive\n",
        "drive.mount('/content/drive')"
      ],
      "execution_count": 8,
      "outputs": [
        {
          "output_type": "stream",
          "text": [
            "Drive already mounted at /content/drive; to attempt to forcibly remount, call drive.mount(\"/content/drive\", force_remount=True).\n"
          ],
          "name": "stdout"
        }
      ]
    },
    {
      "cell_type": "code",
      "metadata": {
        "id": "uZwNsjB5jaZe",
        "colab_type": "code",
        "colab": {}
      },
      "source": [
        "from fastai.tabular import *"
      ],
      "execution_count": 0,
      "outputs": []
    },
    {
      "cell_type": "markdown",
      "metadata": {
        "id": "ivUmn2JHjaZh",
        "colab_type": "text"
      },
      "source": [
        "# Rossmann"
      ]
    },
    {
      "cell_type": "markdown",
      "metadata": {
        "id": "X06ZVJ_vjaZh",
        "colab_type": "text"
      },
      "source": [
        "## Data preparation"
      ]
    },
    {
      "cell_type": "markdown",
      "metadata": {
        "id": "DLEVIzeHjaZh",
        "colab_type": "text"
      },
      "source": [
        "To create the feature-engineered train_clean and test_clean from the Kaggle competition data, run `rossman_data_clean.ipynb`. One important step that deals with time series is this:\n",
        "\n",
        "```python\n",
        "add_datepart(train, \"Date\", drop=False)\n",
        "add_datepart(test, \"Date\", drop=False)\n",
        "```"
      ]
    },
    {
      "cell_type": "code",
      "metadata": {
        "id": "Kpr20rHsjaZi",
        "colab_type": "code",
        "colab": {}
      },
      "source": [
        "path = Path('/content/drive/My Drive/Colab Notebooks/Lesson6/rossmann')\n",
        "train_df = pd.read_pickle(path/'train_clean')"
      ],
      "execution_count": 0,
      "outputs": []
    },
    {
      "cell_type": "code",
      "metadata": {
        "id": "S4y0zetfjaZk",
        "colab_type": "code",
        "outputId": "a38916b8-bd2b-4cc9-8d5a-5fb0119f111f",
        "colab": {
          "base_uri": "https://localhost:8080/",
          "height": 415
        }
      },
      "source": [
        "train_df.head().T"
      ],
      "execution_count": 14,
      "outputs": [
        {
          "output_type": "execute_result",
          "data": {
            "text/html": [
              "<div>\n",
              "<style scoped>\n",
              "    .dataframe tbody tr th:only-of-type {\n",
              "        vertical-align: middle;\n",
              "    }\n",
              "\n",
              "    .dataframe tbody tr th {\n",
              "        vertical-align: top;\n",
              "    }\n",
              "\n",
              "    .dataframe thead th {\n",
              "        text-align: right;\n",
              "    }\n",
              "</style>\n",
              "<table border=\"1\" class=\"dataframe\">\n",
              "  <thead>\n",
              "    <tr style=\"text-align: right;\">\n",
              "      <th></th>\n",
              "      <th>0</th>\n",
              "      <th>1</th>\n",
              "      <th>2</th>\n",
              "      <th>3</th>\n",
              "      <th>4</th>\n",
              "    </tr>\n",
              "  </thead>\n",
              "  <tbody>\n",
              "    <tr>\n",
              "      <th>index</th>\n",
              "      <td>0</td>\n",
              "      <td>1</td>\n",
              "      <td>2</td>\n",
              "      <td>3</td>\n",
              "      <td>4</td>\n",
              "    </tr>\n",
              "    <tr>\n",
              "      <th>Store</th>\n",
              "      <td>1</td>\n",
              "      <td>2</td>\n",
              "      <td>3</td>\n",
              "      <td>4</td>\n",
              "      <td>5</td>\n",
              "    </tr>\n",
              "    <tr>\n",
              "      <th>DayOfWeek</th>\n",
              "      <td>5</td>\n",
              "      <td>5</td>\n",
              "      <td>5</td>\n",
              "      <td>5</td>\n",
              "      <td>5</td>\n",
              "    </tr>\n",
              "    <tr>\n",
              "      <th>Date</th>\n",
              "      <td>2015-07-31 00:00:00</td>\n",
              "      <td>2015-07-31 00:00:00</td>\n",
              "      <td>2015-07-31 00:00:00</td>\n",
              "      <td>2015-07-31 00:00:00</td>\n",
              "      <td>2015-07-31 00:00:00</td>\n",
              "    </tr>\n",
              "    <tr>\n",
              "      <th>Sales</th>\n",
              "      <td>5263</td>\n",
              "      <td>6064</td>\n",
              "      <td>8314</td>\n",
              "      <td>13995</td>\n",
              "      <td>4822</td>\n",
              "    </tr>\n",
              "    <tr>\n",
              "      <th>...</th>\n",
              "      <td>...</td>\n",
              "      <td>...</td>\n",
              "      <td>...</td>\n",
              "      <td>...</td>\n",
              "      <td>...</td>\n",
              "    </tr>\n",
              "    <tr>\n",
              "      <th>StateHoliday_bw</th>\n",
              "      <td>0</td>\n",
              "      <td>0</td>\n",
              "      <td>0</td>\n",
              "      <td>0</td>\n",
              "      <td>0</td>\n",
              "    </tr>\n",
              "    <tr>\n",
              "      <th>Promo_bw</th>\n",
              "      <td>5</td>\n",
              "      <td>5</td>\n",
              "      <td>5</td>\n",
              "      <td>5</td>\n",
              "      <td>5</td>\n",
              "    </tr>\n",
              "    <tr>\n",
              "      <th>SchoolHoliday_fw</th>\n",
              "      <td>7</td>\n",
              "      <td>1</td>\n",
              "      <td>5</td>\n",
              "      <td>1</td>\n",
              "      <td>1</td>\n",
              "    </tr>\n",
              "    <tr>\n",
              "      <th>StateHoliday_fw</th>\n",
              "      <td>0</td>\n",
              "      <td>0</td>\n",
              "      <td>0</td>\n",
              "      <td>0</td>\n",
              "      <td>0</td>\n",
              "    </tr>\n",
              "    <tr>\n",
              "      <th>Promo_fw</th>\n",
              "      <td>5</td>\n",
              "      <td>1</td>\n",
              "      <td>5</td>\n",
              "      <td>1</td>\n",
              "      <td>1</td>\n",
              "    </tr>\n",
              "  </tbody>\n",
              "</table>\n",
              "<p>93 rows × 5 columns</p>\n",
              "</div>"
            ],
            "text/plain": [
              "                                    0  ...                    4\n",
              "index                               0  ...                    4\n",
              "Store                               1  ...                    5\n",
              "DayOfWeek                           5  ...                    5\n",
              "Date              2015-07-31 00:00:00  ...  2015-07-31 00:00:00\n",
              "Sales                            5263  ...                 4822\n",
              "...                               ...  ...                  ...\n",
              "StateHoliday_bw                     0  ...                    0\n",
              "Promo_bw                            5  ...                    5\n",
              "SchoolHoliday_fw                    7  ...                    1\n",
              "StateHoliday_fw                     0  ...                    0\n",
              "Promo_fw                            5  ...                    1\n",
              "\n",
              "[93 rows x 5 columns]"
            ]
          },
          "metadata": {
            "tags": []
          },
          "execution_count": 14
        }
      ]
    },
    {
      "cell_type": "code",
      "metadata": {
        "id": "YHMnhx1YjaZn",
        "colab_type": "code",
        "outputId": "e309bc31-c536-4740-d9a3-8811c583c508",
        "colab": {
          "base_uri": "https://localhost:8080/",
          "height": 36
        }
      },
      "source": [
        "n = len(train_df); n"
      ],
      "execution_count": 15,
      "outputs": [
        {
          "output_type": "execute_result",
          "data": {
            "text/plain": [
              "844338"
            ]
          },
          "metadata": {
            "tags": []
          },
          "execution_count": 15
        }
      ]
    },
    {
      "cell_type": "markdown",
      "metadata": {
        "id": "LeKrwx_EjaZq",
        "colab_type": "text"
      },
      "source": [
        "### Experimenting with a sample"
      ]
    },
    {
      "cell_type": "code",
      "metadata": {
        "id": "b-xWNFcLjaZq",
        "colab_type": "code",
        "colab": {}
      },
      "source": [
        "idx = np.random.permutation(range(n))[:2000] #grab 2000 random id\n",
        "idx.sort()\n",
        "small_train_df = train_df.iloc[idx[:1000]] #training set\n",
        "small_test_df = train_df.iloc[idx[1000:]] #test set\n",
        "small_cont_vars = ['CompetitionDistance', 'Mean_Humidity'] #grab 5 columns\n",
        "small_cat_vars =  ['Store', 'DayOfWeek', 'PromoInterval']\n",
        "small_train_df = small_train_df[small_cat_vars + small_cont_vars + ['Sales']]\n",
        "small_test_df = small_test_df[small_cat_vars + small_cont_vars + ['Sales']]"
      ],
      "execution_count": 0,
      "outputs": []
    },
    {
      "cell_type": "code",
      "metadata": {
        "id": "9p7d1VqbjaZt",
        "colab_type": "code",
        "outputId": "b5a58053-9126-4bc1-e6e2-c72438e453ec",
        "colab": {
          "base_uri": "https://localhost:8080/",
          "height": 202
        }
      },
      "source": [
        "small_train_df.head() #pandas missing - NaN"
      ],
      "execution_count": 19,
      "outputs": [
        {
          "output_type": "execute_result",
          "data": {
            "text/html": [
              "<div>\n",
              "<style scoped>\n",
              "    .dataframe tbody tr th:only-of-type {\n",
              "        vertical-align: middle;\n",
              "    }\n",
              "\n",
              "    .dataframe tbody tr th {\n",
              "        vertical-align: top;\n",
              "    }\n",
              "\n",
              "    .dataframe thead th {\n",
              "        text-align: right;\n",
              "    }\n",
              "</style>\n",
              "<table border=\"1\" class=\"dataframe\">\n",
              "  <thead>\n",
              "    <tr style=\"text-align: right;\">\n",
              "      <th></th>\n",
              "      <th>Store</th>\n",
              "      <th>DayOfWeek</th>\n",
              "      <th>PromoInterval</th>\n",
              "      <th>CompetitionDistance</th>\n",
              "      <th>Mean_Humidity</th>\n",
              "      <th>Sales</th>\n",
              "    </tr>\n",
              "  </thead>\n",
              "  <tbody>\n",
              "    <tr>\n",
              "      <th>18</th>\n",
              "      <td>19</td>\n",
              "      <td>5</td>\n",
              "      <td>Mar,Jun,Sept,Dec</td>\n",
              "      <td>3240.0</td>\n",
              "      <td>61</td>\n",
              "      <td>8234</td>\n",
              "    </tr>\n",
              "    <tr>\n",
              "      <th>200</th>\n",
              "      <td>201</td>\n",
              "      <td>5</td>\n",
              "      <td>Mar,Jun,Sept,Dec</td>\n",
              "      <td>20260.0</td>\n",
              "      <td>61</td>\n",
              "      <td>6625</td>\n",
              "    </tr>\n",
              "    <tr>\n",
              "      <th>878</th>\n",
              "      <td>881</td>\n",
              "      <td>5</td>\n",
              "      <td>Feb,May,Aug,Nov</td>\n",
              "      <td>180.0</td>\n",
              "      <td>61</td>\n",
              "      <td>7396</td>\n",
              "    </tr>\n",
              "    <tr>\n",
              "      <th>904</th>\n",
              "      <td>907</td>\n",
              "      <td>5</td>\n",
              "      <td>NaN</td>\n",
              "      <td>250.0</td>\n",
              "      <td>61</td>\n",
              "      <td>8485</td>\n",
              "    </tr>\n",
              "    <tr>\n",
              "      <th>1068</th>\n",
              "      <td>1071</td>\n",
              "      <td>5</td>\n",
              "      <td>Mar,Jun,Sept,Dec</td>\n",
              "      <td>820.0</td>\n",
              "      <td>61</td>\n",
              "      <td>7241</td>\n",
              "    </tr>\n",
              "  </tbody>\n",
              "</table>\n",
              "</div>"
            ],
            "text/plain": [
              "      Store  DayOfWeek  ... Mean_Humidity  Sales\n",
              "18       19          5  ...            61   8234\n",
              "200     201          5  ...            61   6625\n",
              "878     881          5  ...            61   7396\n",
              "904     907          5  ...            61   8485\n",
              "1068   1071          5  ...            61   7241\n",
              "\n",
              "[5 rows x 6 columns]"
            ]
          },
          "metadata": {
            "tags": []
          },
          "execution_count": 19
        }
      ]
    },
    {
      "cell_type": "code",
      "metadata": {
        "id": "szTEoLWcjaZx",
        "colab_type": "code",
        "outputId": "fd3add92-7482-4640-cd91-b74c8b77e31c",
        "colab": {
          "base_uri": "https://localhost:8080/",
          "height": 202
        }
      },
      "source": [
        "small_test_df.head()"
      ],
      "execution_count": 20,
      "outputs": [
        {
          "output_type": "execute_result",
          "data": {
            "text/html": [
              "<div>\n",
              "<style scoped>\n",
              "    .dataframe tbody tr th:only-of-type {\n",
              "        vertical-align: middle;\n",
              "    }\n",
              "\n",
              "    .dataframe tbody tr th {\n",
              "        vertical-align: top;\n",
              "    }\n",
              "\n",
              "    .dataframe thead th {\n",
              "        text-align: right;\n",
              "    }\n",
              "</style>\n",
              "<table border=\"1\" class=\"dataframe\">\n",
              "  <thead>\n",
              "    <tr style=\"text-align: right;\">\n",
              "      <th></th>\n",
              "      <th>Store</th>\n",
              "      <th>DayOfWeek</th>\n",
              "      <th>PromoInterval</th>\n",
              "      <th>CompetitionDistance</th>\n",
              "      <th>Mean_Humidity</th>\n",
              "      <th>Sales</th>\n",
              "    </tr>\n",
              "  </thead>\n",
              "  <tbody>\n",
              "    <tr>\n",
              "      <th>399191</th>\n",
              "      <td>824</td>\n",
              "      <td>6</td>\n",
              "      <td>NaN</td>\n",
              "      <td>17570.0</td>\n",
              "      <td>73</td>\n",
              "      <td>4706</td>\n",
              "    </tr>\n",
              "    <tr>\n",
              "      <th>399283</th>\n",
              "      <td>916</td>\n",
              "      <td>6</td>\n",
              "      <td>NaN</td>\n",
              "      <td>90.0</td>\n",
              "      <td>69</td>\n",
              "      <td>5632</td>\n",
              "    </tr>\n",
              "    <tr>\n",
              "      <th>399776</th>\n",
              "      <td>295</td>\n",
              "      <td>5</td>\n",
              "      <td>Mar,Jun,Sept,Dec</td>\n",
              "      <td>210.0</td>\n",
              "      <td>55</td>\n",
              "      <td>4226</td>\n",
              "    </tr>\n",
              "    <tr>\n",
              "      <th>399861</th>\n",
              "      <td>380</td>\n",
              "      <td>5</td>\n",
              "      <td>Mar,Jun,Sept,Dec</td>\n",
              "      <td>2240.0</td>\n",
              "      <td>64</td>\n",
              "      <td>12107</td>\n",
              "    </tr>\n",
              "    <tr>\n",
              "      <th>399974</th>\n",
              "      <td>493</td>\n",
              "      <td>5</td>\n",
              "      <td>Jan,Apr,Jul,Oct</td>\n",
              "      <td>1150.0</td>\n",
              "      <td>64</td>\n",
              "      <td>6094</td>\n",
              "    </tr>\n",
              "  </tbody>\n",
              "</table>\n",
              "</div>"
            ],
            "text/plain": [
              "        Store  DayOfWeek  ... Mean_Humidity  Sales\n",
              "399191    824          6  ...            73   4706\n",
              "399283    916          6  ...            69   5632\n",
              "399776    295          5  ...            55   4226\n",
              "399861    380          5  ...            64  12107\n",
              "399974    493          5  ...            64   6094\n",
              "\n",
              "[5 rows x 6 columns]"
            ]
          },
          "metadata": {
            "tags": []
          },
          "execution_count": 20
        }
      ]
    },
    {
      "cell_type": "code",
      "metadata": {
        "id": "ie7pdFIsjaZz",
        "colab_type": "code",
        "colab": {}
      },
      "source": [
        "categorify = Categorify(small_cat_vars, small_cont_vars) #string -> numbers\n",
        "categorify(small_train_df)\n",
        "categorify(small_test_df, test=True) #use same category"
      ],
      "execution_count": 0,
      "outputs": []
    },
    {
      "cell_type": "code",
      "metadata": {
        "id": "rSSRAbmXjaZ1",
        "colab_type": "code",
        "outputId": "09a26ab1-8359-48b2-e510-608a6ac45d91",
        "colab": {
          "base_uri": "https://localhost:8080/",
          "height": 202
        }
      },
      "source": [
        "small_test_df.head()"
      ],
      "execution_count": 22,
      "outputs": [
        {
          "output_type": "execute_result",
          "data": {
            "text/html": [
              "<div>\n",
              "<style scoped>\n",
              "    .dataframe tbody tr th:only-of-type {\n",
              "        vertical-align: middle;\n",
              "    }\n",
              "\n",
              "    .dataframe tbody tr th {\n",
              "        vertical-align: top;\n",
              "    }\n",
              "\n",
              "    .dataframe thead th {\n",
              "        text-align: right;\n",
              "    }\n",
              "</style>\n",
              "<table border=\"1\" class=\"dataframe\">\n",
              "  <thead>\n",
              "    <tr style=\"text-align: right;\">\n",
              "      <th></th>\n",
              "      <th>Store</th>\n",
              "      <th>DayOfWeek</th>\n",
              "      <th>PromoInterval</th>\n",
              "      <th>CompetitionDistance</th>\n",
              "      <th>Mean_Humidity</th>\n",
              "      <th>Sales</th>\n",
              "    </tr>\n",
              "  </thead>\n",
              "  <tbody>\n",
              "    <tr>\n",
              "      <th>399191</th>\n",
              "      <td>824</td>\n",
              "      <td>6</td>\n",
              "      <td>NaN</td>\n",
              "      <td>17570.0</td>\n",
              "      <td>73</td>\n",
              "      <td>4706</td>\n",
              "    </tr>\n",
              "    <tr>\n",
              "      <th>399283</th>\n",
              "      <td>916</td>\n",
              "      <td>6</td>\n",
              "      <td>NaN</td>\n",
              "      <td>90.0</td>\n",
              "      <td>69</td>\n",
              "      <td>5632</td>\n",
              "    </tr>\n",
              "    <tr>\n",
              "      <th>399776</th>\n",
              "      <td>295</td>\n",
              "      <td>5</td>\n",
              "      <td>Mar,Jun,Sept,Dec</td>\n",
              "      <td>210.0</td>\n",
              "      <td>55</td>\n",
              "      <td>4226</td>\n",
              "    </tr>\n",
              "    <tr>\n",
              "      <th>399861</th>\n",
              "      <td>380</td>\n",
              "      <td>5</td>\n",
              "      <td>Mar,Jun,Sept,Dec</td>\n",
              "      <td>2240.0</td>\n",
              "      <td>64</td>\n",
              "      <td>12107</td>\n",
              "    </tr>\n",
              "    <tr>\n",
              "      <th>399974</th>\n",
              "      <td>493</td>\n",
              "      <td>5</td>\n",
              "      <td>Jan,Apr,Jul,Oct</td>\n",
              "      <td>1150.0</td>\n",
              "      <td>64</td>\n",
              "      <td>6094</td>\n",
              "    </tr>\n",
              "  </tbody>\n",
              "</table>\n",
              "</div>"
            ],
            "text/plain": [
              "       Store DayOfWeek  ... Mean_Humidity  Sales\n",
              "399191   824         6  ...            73   4706\n",
              "399283   916         6  ...            69   5632\n",
              "399776   295         5  ...            55   4226\n",
              "399861   380         5  ...            64  12107\n",
              "399974   493         5  ...            64   6094\n",
              "\n",
              "[5 rows x 6 columns]"
            ]
          },
          "metadata": {
            "tags": []
          },
          "execution_count": 22
        }
      ]
    },
    {
      "cell_type": "code",
      "metadata": {
        "id": "wj-FzE4njaZ3",
        "colab_type": "code",
        "outputId": "ff9493eb-58e4-4717-c0fa-c9f47fab18e2",
        "colab": {
          "base_uri": "https://localhost:8080/",
          "height": 36
        }
      },
      "source": [
        "small_train_df.PromoInterval.cat.categories #categories in pandas"
      ],
      "execution_count": 23,
      "outputs": [
        {
          "output_type": "execute_result",
          "data": {
            "text/plain": [
              "Index(['Feb,May,Aug,Nov', 'Jan,Apr,Jul,Oct', 'Mar,Jun,Sept,Dec'], dtype='object')"
            ]
          },
          "metadata": {
            "tags": []
          },
          "execution_count": 23
        }
      ]
    },
    {
      "cell_type": "code",
      "metadata": {
        "id": "ZRg540E-jaZ5",
        "colab_type": "code",
        "outputId": "36ff7655-ccba-43a7-8e55-f54c9dc1596b",
        "colab": {
          "base_uri": "https://localhost:8080/",
          "height": 129
        }
      },
      "source": [
        "small_train_df['PromoInterval'].cat.codes[:5] #실제로 저장된 숫자들 여기서 -1은 NaN을 나타냄(pandas에서는,-1을 missing의 의미로 사용)"
      ],
      "execution_count": 24,
      "outputs": [
        {
          "output_type": "execute_result",
          "data": {
            "text/plain": [
              "18      2\n",
              "200     2\n",
              "878     0\n",
              "904    -1\n",
              "1068    2\n",
              "dtype: int8"
            ]
          },
          "metadata": {
            "tags": []
          },
          "execution_count": 24
        }
      ]
    },
    {
      "cell_type": "code",
      "metadata": {
        "id": "GyCxs8z5jaZ7",
        "colab_type": "code",
        "colab": {}
      },
      "source": [
        "fill_missing = FillMissing(small_cat_vars, small_cont_vars)\n",
        "fill_missing(small_train_df)\n",
        "fill_missing(small_test_df, test=True)"
      ],
      "execution_count": 0,
      "outputs": []
    },
    {
      "cell_type": "code",
      "metadata": {
        "id": "Ob7q5wMdjaZ9",
        "colab_type": "code",
        "outputId": "933971f1-55d6-4fbf-a287-fc84e38f200b",
        "colab": {
          "base_uri": "https://localhost:8080/",
          "height": 141
        }
      },
      "source": [
        "small_train_df[small_train_df['CompetitionDistance_na'] == True] #create an additional column / replace competition distance with the median"
      ],
      "execution_count": 26,
      "outputs": [
        {
          "output_type": "execute_result",
          "data": {
            "text/html": [
              "<div>\n",
              "<style scoped>\n",
              "    .dataframe tbody tr th:only-of-type {\n",
              "        vertical-align: middle;\n",
              "    }\n",
              "\n",
              "    .dataframe tbody tr th {\n",
              "        vertical-align: top;\n",
              "    }\n",
              "\n",
              "    .dataframe thead th {\n",
              "        text-align: right;\n",
              "    }\n",
              "</style>\n",
              "<table border=\"1\" class=\"dataframe\">\n",
              "  <thead>\n",
              "    <tr style=\"text-align: right;\">\n",
              "      <th></th>\n",
              "      <th>Store</th>\n",
              "      <th>DayOfWeek</th>\n",
              "      <th>PromoInterval</th>\n",
              "      <th>CompetitionDistance</th>\n",
              "      <th>Mean_Humidity</th>\n",
              "      <th>Sales</th>\n",
              "      <th>CompetitionDistance_na</th>\n",
              "    </tr>\n",
              "  </thead>\n",
              "  <tbody>\n",
              "    <tr>\n",
              "      <th>88712</th>\n",
              "      <td>879</td>\n",
              "      <td>1</td>\n",
              "      <td>Feb,May,Aug,Nov</td>\n",
              "      <td>2260.0</td>\n",
              "      <td>68</td>\n",
              "      <td>5503</td>\n",
              "      <td>True</td>\n",
              "    </tr>\n",
              "    <tr>\n",
              "      <th>263525</th>\n",
              "      <td>622</td>\n",
              "      <td>1</td>\n",
              "      <td>NaN</td>\n",
              "      <td>2260.0</td>\n",
              "      <td>75</td>\n",
              "      <td>5801</td>\n",
              "      <td>True</td>\n",
              "    </tr>\n",
              "    <tr>\n",
              "      <th>350943</th>\n",
              "      <td>291</td>\n",
              "      <td>4</td>\n",
              "      <td>NaN</td>\n",
              "      <td>2260.0</td>\n",
              "      <td>71</td>\n",
              "      <td>8849</td>\n",
              "      <td>True</td>\n",
              "    </tr>\n",
              "  </tbody>\n",
              "</table>\n",
              "</div>"
            ],
            "text/plain": [
              "       Store DayOfWeek  ... Sales  CompetitionDistance_na\n",
              "88712    879         1  ...  5503                    True\n",
              "263525   622         1  ...  5801                    True\n",
              "350943   291         4  ...  8849                    True\n",
              "\n",
              "[3 rows x 7 columns]"
            ]
          },
          "metadata": {
            "tags": []
          },
          "execution_count": 26
        }
      ]
    },
    {
      "cell_type": "markdown",
      "metadata": {
        "id": "E9DKOgOGjaZ_",
        "colab_type": "text"
      },
      "source": [
        "### Preparing full data set"
      ]
    },
    {
      "cell_type": "code",
      "metadata": {
        "id": "vmPKiVlOjaaA",
        "colab_type": "code",
        "colab": {}
      },
      "source": [
        "train_df = pd.read_pickle(path/'train_clean')\n",
        "test_df = pd.read_pickle(path/'test_clean')"
      ],
      "execution_count": 0,
      "outputs": []
    },
    {
      "cell_type": "code",
      "metadata": {
        "id": "zRta1VczjaaB",
        "colab_type": "code",
        "outputId": "bc0cb48b-5f8f-4fc2-f6e9-79c254f82f77",
        "colab": {
          "base_uri": "https://localhost:8080/",
          "height": 36
        }
      },
      "source": [
        "len(train_df),len(test_df)"
      ],
      "execution_count": 28,
      "outputs": [
        {
          "output_type": "execute_result",
          "data": {
            "text/plain": [
              "(844338, 41088)"
            ]
          },
          "metadata": {
            "tags": []
          },
          "execution_count": 28
        }
      ]
    },
    {
      "cell_type": "code",
      "metadata": {
        "id": "K1f5EGnyjaaE",
        "colab_type": "code",
        "colab": {}
      },
      "source": [
        "procs=[FillMissing, Categorify, Normalize] "
      ],
      "execution_count": 0,
      "outputs": []
    },
    {
      "cell_type": "code",
      "metadata": {
        "id": "jjDk226kjaaG",
        "colab_type": "code",
        "colab": {}
      },
      "source": [
        "cat_vars = ['Store', 'DayOfWeek', 'Year', 'Month', 'Day', 'StateHoliday', 'CompetitionMonthsOpen',\n",
        "    'Promo2Weeks', 'StoreType', 'Assortment', 'PromoInterval', 'CompetitionOpenSinceYear', 'Promo2SinceYear',\n",
        "    'State', 'Week', 'Events', 'Promo_fw', 'Promo_bw', 'StateHoliday_fw', 'StateHoliday_bw',\n",
        "    'SchoolHoliday_fw', 'SchoolHoliday_bw'] #categorical variables\n",
        "\n",
        "cont_vars = ['CompetitionDistance', 'Max_TemperatureC', 'Mean_TemperatureC', 'Min_TemperatureC',\n",
        "   'Max_Humidity', 'Mean_Humidity', 'Min_Humidity', 'Max_Wind_SpeedKm_h', \n",
        "   'Mean_Wind_SpeedKm_h', 'CloudCover', 'trend', 'trend_DE',\n",
        "   'AfterStateHoliday', 'BeforeStateHoliday', 'Promo', 'SchoolHoliday'] #continuous variables"
      ],
      "execution_count": 0,
      "outputs": []
    },
    {
      "cell_type": "code",
      "metadata": {
        "id": "XgU8jbfKjaaH",
        "colab_type": "code",
        "colab": {}
      },
      "source": [
        "dep_var = 'Sales'\n",
        "df = train_df[cat_vars + cont_vars + [dep_var,'Date']].copy() #df = data frame / training set[categorical variables,continuous variables]+dependent variables "
      ],
      "execution_count": 0,
      "outputs": []
    },
    {
      "cell_type": "code",
      "metadata": {
        "id": "lv2i5w1JjaaJ",
        "colab_type": "code",
        "outputId": "7bb9f3da-d5b1-4bb9-fc54-6c726fbe0a46",
        "colab": {
          "base_uri": "https://localhost:8080/",
          "height": 36
        }
      },
      "source": [
        "test_df['Date'].min(), test_df['Date'].max()"
      ],
      "execution_count": 32,
      "outputs": [
        {
          "output_type": "execute_result",
          "data": {
            "text/plain": [
              "(Timestamp('2015-08-01 00:00:00'), Timestamp('2015-09-17 00:00:00'))"
            ]
          },
          "metadata": {
            "tags": []
          },
          "execution_count": 32
        }
      ]
    },
    {
      "cell_type": "code",
      "metadata": {
        "id": "b3yEaRWFjaaK",
        "colab_type": "code",
        "outputId": "9cb6a468-354f-44d1-e657-0535952eb24b",
        "colab": {
          "base_uri": "https://localhost:8080/",
          "height": 36
        }
      },
      "source": [
        "cut = train_df['Date'][(train_df['Date'] == train_df['Date'][len(test_df)])].index.max()\n",
        "cut"
      ],
      "execution_count": 33,
      "outputs": [
        {
          "output_type": "execute_result",
          "data": {
            "text/plain": [
              "41395"
            ]
          },
          "metadata": {
            "tags": []
          },
          "execution_count": 33
        }
      ]
    },
    {
      "cell_type": "code",
      "metadata": {
        "id": "zHxSTs-AjaaM",
        "colab_type": "code",
        "colab": {}
      },
      "source": [
        "valid_idx = range(cut)"
      ],
      "execution_count": 0,
      "outputs": []
    },
    {
      "cell_type": "code",
      "metadata": {
        "id": "eXseKAGyjaaO",
        "colab_type": "code",
        "outputId": "b12dd238-c2a3-4bb7-e229-dbcc79e400d7",
        "colab": {
          "base_uri": "https://localhost:8080/",
          "height": 129
        }
      },
      "source": [
        "df[dep_var].head()"
      ],
      "execution_count": 35,
      "outputs": [
        {
          "output_type": "execute_result",
          "data": {
            "text/plain": [
              "0     5263\n",
              "1     6064\n",
              "2     8314\n",
              "3    13995\n",
              "4     4822\n",
              "Name: Sales, dtype: int64"
            ]
          },
          "metadata": {
            "tags": []
          },
          "execution_count": 35
        }
      ]
    },
    {
      "cell_type": "code",
      "metadata": {
        "id": "ovKCnn3YjaaQ",
        "colab_type": "code",
        "colab": {}
      },
      "source": [
        "data = (TabularList.from_df(df, path=path, cat_names=cat_vars, cont_names=cont_vars, procs=procs,)\n",
        "                .split_by_idx(valid_idx)\n",
        "                .label_from_df(cols=dep_var, label_cls=FloatList, log=True) #List of Float, not categories\n",
        "                .add_test(TabularList.from_df(test_df, path=path, cat_names=cat_vars, cont_names=cont_vars))\n",
        "                .databunch())"
      ],
      "execution_count": 0,
      "outputs": []
    },
    {
      "cell_type": "markdown",
      "metadata": {
        "id": "Td_e7p3xMEqF",
        "colab_type": "text"
      },
      "source": [
        "TabularList - standard datablock API"
      ]
    },
    {
      "cell_type": "code",
      "metadata": {
        "id": "__HlUyK2jaaS",
        "colab_type": "code",
        "colab": {}
      },
      "source": [
        "doc(FloatList)"
      ],
      "execution_count": 0,
      "outputs": []
    },
    {
      "cell_type": "markdown",
      "metadata": {
        "id": "dUYQd-J1jaaU",
        "colab_type": "text"
      },
      "source": [
        "## Model"
      ]
    },
    {
      "cell_type": "code",
      "metadata": {
        "id": "rssx_Vn9jaaV",
        "colab_type": "code",
        "colab": {}
      },
      "source": [
        "max_log_y = np.log(np.max(train_df['Sales'])*1.2) #make the range wider\n",
        "y_range = torch.tensor([0, max_log_y], device=defaults.device)"
      ],
      "execution_count": 0,
      "outputs": []
    },
    {
      "cell_type": "code",
      "metadata": {
        "id": "KajStdDtjaaW",
        "colab_type": "code",
        "colab": {}
      },
      "source": [
        "learn = tabular_learner(data, layers=[1000,500], ps=[0.001,0.01], emb_drop=0.04, #overfitting을 막기 위해 layer의 파라미터를 줄일 것이 아니라, regularization을 해줄 것\n",
        "                        y_range=y_range, metrics=exp_rmspe) #weight decay를 이용 / ps => dropout을 제공 / emb_drop : embedding dropout"
      ],
      "execution_count": 0,
      "outputs": []
    },
    {
      "cell_type": "markdown",
      "metadata": {
        "id": "cc7mytrDeSdW",
        "colab_type": "text"
      },
      "source": [
        "dropout : a kind of regularizion\n",
        "램덤하게 액티베이션의 퍼센티지를 버리는 것 \n",
        "\n",
        "파라미터나 가중치에 변화를 주는 것이 아님\n",
        "\n",
        "test time에서는 dropout X\n",
        "test time = inference time\n",
        "\n",
        "ps = [0.001,0.01] dropout값, 첫번째 레이어와 그 다음레이어의 드랍아웃값을 의미\n",
        "\n",
        "embedding layer에는 emb_drop을 이용해 별도의 드랍아웃값을 지정"
      ]
    },
    {
      "cell_type": "code",
      "metadata": {
        "id": "cHJ-tp5NjaaZ",
        "colab_type": "code",
        "outputId": "3a97821f-fe16-47ce-de38-ddcd150c8ca0",
        "colab": {
          "base_uri": "https://localhost:8080/",
          "height": 783
        }
      },
      "source": [
        "learn.model #whole bunch of embeddings (number of levels of the input,)"
      ],
      "execution_count": 40,
      "outputs": [
        {
          "output_type": "execute_result",
          "data": {
            "text/plain": [
              "TabularModel(\n",
              "  (embeds): ModuleList(\n",
              "    (0): Embedding(1116, 81)\n",
              "    (1): Embedding(8, 5)\n",
              "    (2): Embedding(4, 3)\n",
              "    (3): Embedding(13, 7)\n",
              "    (4): Embedding(32, 11)\n",
              "    (5): Embedding(3, 3)\n",
              "    (6): Embedding(26, 10)\n",
              "    (7): Embedding(27, 10)\n",
              "    (8): Embedding(5, 4)\n",
              "    (9): Embedding(4, 3)\n",
              "    (10): Embedding(4, 3)\n",
              "    (11): Embedding(24, 9)\n",
              "    (12): Embedding(9, 5)\n",
              "    (13): Embedding(13, 7)\n",
              "    (14): Embedding(53, 15)\n",
              "    (15): Embedding(22, 9)\n",
              "    (16): Embedding(7, 5)\n",
              "    (17): Embedding(7, 5)\n",
              "    (18): Embedding(4, 3)\n",
              "    (19): Embedding(4, 3)\n",
              "    (20): Embedding(9, 5)\n",
              "    (21): Embedding(9, 5)\n",
              "    (22): Embedding(3, 3)\n",
              "    (23): Embedding(3, 3)\n",
              "  )\n",
              "  (emb_drop): Dropout(p=0.04, inplace=False)\n",
              "  (bn_cont): BatchNorm1d(16, eps=1e-05, momentum=0.1, affine=True, track_running_stats=True)\n",
              "  (layers): Sequential(\n",
              "    (0): Linear(in_features=233, out_features=1000, bias=True)\n",
              "    (1): ReLU(inplace=True)\n",
              "    (2): BatchNorm1d(1000, eps=1e-05, momentum=0.1, affine=True, track_running_stats=True)\n",
              "    (3): Dropout(p=0.001, inplace=False)\n",
              "    (4): Linear(in_features=1000, out_features=500, bias=True)\n",
              "    (5): ReLU(inplace=True)\n",
              "    (6): BatchNorm1d(500, eps=1e-05, momentum=0.1, affine=True, track_running_stats=True)\n",
              "    (7): Dropout(p=0.01, inplace=False)\n",
              "    (8): Linear(in_features=500, out_features=1, bias=True)\n",
              "  )\n",
              ")"
            ]
          },
          "metadata": {
            "tags": []
          },
          "execution_count": 40
        }
      ]
    },
    {
      "cell_type": "code",
      "metadata": {
        "id": "bHw7w4Hejaaa",
        "colab_type": "code",
        "outputId": "eff8f9dd-d422-4451-f1cd-d26b1e0d2586",
        "colab": {
          "base_uri": "https://localhost:8080/",
          "height": 36
        }
      },
      "source": [
        "len(data.train_ds.cont_names)"
      ],
      "execution_count": 41,
      "outputs": [
        {
          "output_type": "execute_result",
          "data": {
            "text/plain": [
              "16"
            ]
          },
          "metadata": {
            "tags": []
          },
          "execution_count": 41
        }
      ]
    },
    {
      "cell_type": "code",
      "metadata": {
        "id": "2h0Py-bijaad",
        "colab_type": "code",
        "outputId": "2c31ba3a-c742-4e8e-9dc0-3b5744aeb3ba",
        "colab": {
          "base_uri": "https://localhost:8080/",
          "height": 115
        }
      },
      "source": [
        "learn.lr_find()"
      ],
      "execution_count": 44,
      "outputs": [
        {
          "output_type": "display_data",
          "data": {
            "text/html": [
              "\n",
              "    <div>\n",
              "        <style>\n",
              "            /* Turns off some styling */\n",
              "            progress {\n",
              "                /* gets rid of default border in Firefox and Opera. */\n",
              "                border: none;\n",
              "                /* Needs to be in here for Safari polyfill so background images work as expected. */\n",
              "                background-size: auto;\n",
              "            }\n",
              "            .progress-bar-interrupted, .progress-bar-interrupted::-webkit-progress-bar {\n",
              "                background: #F44336;\n",
              "            }\n",
              "        </style>\n",
              "      <progress value='0' class='' max='1' style='width:300px; height:20px; vertical-align: middle;'></progress>\n",
              "      0.00% [0/1 00:00<00:00]\n",
              "    </div>\n",
              "    \n",
              "<table border=\"1\" class=\"dataframe\">\n",
              "  <thead>\n",
              "    <tr style=\"text-align: left;\">\n",
              "      <th>epoch</th>\n",
              "      <th>train_loss</th>\n",
              "      <th>valid_loss</th>\n",
              "      <th>exp_rmspe</th>\n",
              "      <th>time</th>\n",
              "    </tr>\n",
              "  </thead>\n",
              "  <tbody>\n",
              "  </tbody>\n",
              "</table><p>\n",
              "\n",
              "    <div>\n",
              "        <style>\n",
              "            /* Turns off some styling */\n",
              "            progress {\n",
              "                /* gets rid of default border in Firefox and Opera. */\n",
              "                border: none;\n",
              "                /* Needs to be in here for Safari polyfill so background images work as expected. */\n",
              "                background-size: auto;\n",
              "            }\n",
              "            .progress-bar-interrupted, .progress-bar-interrupted::-webkit-progress-bar {\n",
              "                background: #F44336;\n",
              "            }\n",
              "        </style>\n",
              "      <progress value='98' class='' max='12545' style='width:300px; height:20px; vertical-align: middle;'></progress>\n",
              "      0.78% [98/12545 00:02<04:44 7.7492]\n",
              "    </div>\n",
              "    "
            ],
            "text/plain": [
              "<IPython.core.display.HTML object>"
            ]
          },
          "metadata": {
            "tags": []
          }
        },
        {
          "output_type": "stream",
          "text": [
            "LR Finder is complete, type {learner_name}.recorder.plot() to see the graph.\n"
          ],
          "name": "stdout"
        }
      ]
    },
    {
      "cell_type": "code",
      "metadata": {
        "id": "MPYaqjfAjaaf",
        "colab_type": "code",
        "outputId": "bc39a333-cc35-4421-ccca-b0441b605dda",
        "colab": {
          "base_uri": "https://localhost:8080/",
          "height": 279
        }
      },
      "source": [
        "learn.recorder.plot()"
      ],
      "execution_count": 45,
      "outputs": [
        {
          "output_type": "display_data",
          "data": {
            "image/png": "[encoded data removed]",
            "text/plain": [
              "<Figure size 432x288 with 1 Axes>"
            ]
          },
          "metadata": {
            "tags": [],
            "needs_background": "light"
          }
        }
      ]
    },
    {
      "cell_type": "code",
      "metadata": {
        "id": "xxLcRsaRjaai",
        "colab_type": "code",
        "outputId": "f0689ee8-d2fd-4b3a-a1ec-60f7cc43d8b1",
        "colab": {
          "base_uri": "https://localhost:8080/",
          "height": 202
        }
      },
      "source": [
        "learn.fit_one_cycle(5, 1e-3, wd=0.2)"
      ],
      "execution_count": 46,
      "outputs": [
        {
          "output_type": "display_data",
          "data": {
            "text/html": [
              "<table border=\"1\" class=\"dataframe\">\n",
              "  <thead>\n",
              "    <tr style=\"text-align: left;\">\n",
              "      <th>epoch</th>\n",
              "      <th>train_loss</th>\n",
              "      <th>valid_loss</th>\n",
              "      <th>exp_rmspe</th>\n",
              "      <th>time</th>\n",
              "    </tr>\n",
              "  </thead>\n",
              "  <tbody>\n",
              "    <tr>\n",
              "      <td>0</td>\n",
              "      <td>0.025073</td>\n",
              "      <td>0.021176</td>\n",
              "      <td>0.138754</td>\n",
              "      <td>04:17</td>\n",
              "    </tr>\n",
              "    <tr>\n",
              "      <td>1</td>\n",
              "      <td>0.019620</td>\n",
              "      <td>0.017343</td>\n",
              "      <td>0.125334</td>\n",
              "      <td>04:18</td>\n",
              "    </tr>\n",
              "    <tr>\n",
              "      <td>2</td>\n",
              "      <td>0.018352</td>\n",
              "      <td>0.015418</td>\n",
              "      <td>0.120099</td>\n",
              "      <td>04:13</td>\n",
              "    </tr>\n",
              "    <tr>\n",
              "      <td>3</td>\n",
              "      <td>0.012775</td>\n",
              "      <td>0.014793</td>\n",
              "      <td>0.126189</td>\n",
              "      <td>04:20</td>\n",
              "    </tr>\n",
              "    <tr>\n",
              "      <td>4</td>\n",
              "      <td>0.011642</td>\n",
              "      <td>0.010901</td>\n",
              "      <td>0.104495</td>\n",
              "      <td>04:20</td>\n",
              "    </tr>\n",
              "  </tbody>\n",
              "</table>"
            ],
            "text/plain": [
              "<IPython.core.display.HTML object>"
            ]
          },
          "metadata": {
            "tags": []
          }
        }
      ]
    },
    {
      "cell_type": "code",
      "metadata": {
        "id": "naE7b3jojaal",
        "colab_type": "code",
        "colab": {}
      },
      "source": [
        "learn.save('1')"
      ],
      "execution_count": 0,
      "outputs": []
    },
    {
      "cell_type": "code",
      "metadata": {
        "id": "VdOUffZQjaam",
        "colab_type": "code",
        "outputId": "42deb125-2f04-4c0d-cc4e-5004b28cdefa",
        "colab": {
          "base_uri": "https://localhost:8080/",
          "height": 279
        }
      },
      "source": [
        "learn.recorder.plot_losses(skip_start=10000)"
      ],
      "execution_count": 48,
      "outputs": [
        {
          "output_type": "display_data",
          "data": {
            "image/png": "[encoded data removed]",
            "text/plain": [
              "<Figure size 432x288 with 1 Axes>"
            ]
          },
          "metadata": {
            "tags": [],
            "needs_background": "light"
          }
        }
      ]
    },
    {
      "cell_type": "code",
      "metadata": {
        "id": "9gXzABj2jaao",
        "colab_type": "code",
        "colab": {}
      },
      "source": [
        "learn.load('1');"
      ],
      "execution_count": 0,
      "outputs": []
    },
    {
      "cell_type": "code",
      "metadata": {
        "id": "ewQtcvS7jaaq",
        "colab_type": "code",
        "outputId": "dea17aa9-56b9-4862-d01a-e2c40f574d61",
        "colab": {
          "base_uri": "https://localhost:8080/",
          "height": 202
        }
      },
      "source": [
        "learn.fit_one_cycle(5, 3e-4)"
      ],
      "execution_count": 50,
      "outputs": [
        {
          "output_type": "display_data",
          "data": {
            "text/html": [
              "<table border=\"1\" class=\"dataframe\">\n",
              "  <thead>\n",
              "    <tr style=\"text-align: left;\">\n",
              "      <th>epoch</th>\n",
              "      <th>train_loss</th>\n",
              "      <th>valid_loss</th>\n",
              "      <th>exp_rmspe</th>\n",
              "      <th>time</th>\n",
              "    </tr>\n",
              "  </thead>\n",
              "  <tbody>\n",
              "    <tr>\n",
              "      <td>0</td>\n",
              "      <td>0.012095</td>\n",
              "      <td>0.013111</td>\n",
              "      <td>0.115331</td>\n",
              "      <td>04:15</td>\n",
              "    </tr>\n",
              "    <tr>\n",
              "      <td>1</td>\n",
              "      <td>0.011932</td>\n",
              "      <td>0.022976</td>\n",
              "      <td>0.120785</td>\n",
              "      <td>04:16</td>\n",
              "    </tr>\n",
              "    <tr>\n",
              "      <td>2</td>\n",
              "      <td>0.011038</td>\n",
              "      <td>0.012258</td>\n",
              "      <td>0.109817</td>\n",
              "      <td>04:17</td>\n",
              "    </tr>\n",
              "    <tr>\n",
              "      <td>3</td>\n",
              "      <td>0.009727</td>\n",
              "      <td>0.013809</td>\n",
              "      <td>0.116065</td>\n",
              "      <td>04:17</td>\n",
              "    </tr>\n",
              "    <tr>\n",
              "      <td>4</td>\n",
              "      <td>0.009283</td>\n",
              "      <td>0.013024</td>\n",
              "      <td>0.114404</td>\n",
              "      <td>04:17</td>\n",
              "    </tr>\n",
              "  </tbody>\n",
              "</table>"
            ],
            "text/plain": [
              "<IPython.core.display.HTML object>"
            ]
          },
          "metadata": {
            "tags": []
          }
        }
      ]
    },
    {
      "cell_type": "code",
      "metadata": {
        "id": "JmLK6Ujrjaat",
        "colab_type": "code",
        "outputId": "7044b464-5372-4061-b574-761239ce1608",
        "colab": {
          "base_uri": "https://localhost:8080/",
          "height": 202
        }
      },
      "source": [
        "learn.fit_one_cycle(5, 3e-4)"
      ],
      "execution_count": 51,
      "outputs": [
        {
          "output_type": "display_data",
          "data": {
            "text/html": [
              "<table border=\"1\" class=\"dataframe\">\n",
              "  <thead>\n",
              "    <tr style=\"text-align: left;\">\n",
              "      <th>epoch</th>\n",
              "      <th>train_loss</th>\n",
              "      <th>valid_loss</th>\n",
              "      <th>exp_rmspe</th>\n",
              "      <th>time</th>\n",
              "    </tr>\n",
              "  </thead>\n",
              "  <tbody>\n",
              "    <tr>\n",
              "      <td>0</td>\n",
              "      <td>0.010347</td>\n",
              "      <td>0.013868</td>\n",
              "      <td>0.123368</td>\n",
              "      <td>04:18</td>\n",
              "    </tr>\n",
              "    <tr>\n",
              "      <td>1</td>\n",
              "      <td>0.011808</td>\n",
              "      <td>0.016036</td>\n",
              "      <td>0.122536</td>\n",
              "      <td>04:18</td>\n",
              "    </tr>\n",
              "    <tr>\n",
              "      <td>2</td>\n",
              "      <td>0.011063</td>\n",
              "      <td>0.015091</td>\n",
              "      <td>0.123544</td>\n",
              "      <td>04:17</td>\n",
              "    </tr>\n",
              "    <tr>\n",
              "      <td>3</td>\n",
              "      <td>0.009367</td>\n",
              "      <td>0.017867</td>\n",
              "      <td>0.128004</td>\n",
              "      <td>04:16</td>\n",
              "    </tr>\n",
              "    <tr>\n",
              "      <td>4</td>\n",
              "      <td>0.009110</td>\n",
              "      <td>0.022194</td>\n",
              "      <td>0.128452</td>\n",
              "      <td>04:13</td>\n",
              "    </tr>\n",
              "  </tbody>\n",
              "</table>"
            ],
            "text/plain": [
              "<IPython.core.display.HTML object>"
            ]
          },
          "metadata": {
            "tags": []
          }
        }
      ]
    },
    {
      "cell_type": "markdown",
      "metadata": {
        "id": "g2UrmLlMjaau",
        "colab_type": "text"
      },
      "source": [
        "(10th place in the competition was 0.108)"
      ]
    },
    {
      "cell_type": "code",
      "metadata": {
        "id": "dZW3rFgdjaav",
        "colab_type": "code",
        "colab": {
          "base_uri": "https://localhost:8080/",
          "height": 17
        },
        "outputId": "440d0416-4376-46ba-e084-41d65e2af956"
      },
      "source": [
        "test_preds=learn.get_preds(DatasetType.Test)\n",
        "test_df[\"Sales\"]=np.exp(test_preds[0].data).numpy().T[0]\n",
        "test_df[[\"Id\",\"Sales\"]]=test_df[[\"Id\",\"Sales\"]].astype(\"int\")\n",
        "test_df[[\"Id\",\"Sales\"]].to_csv(\"rossmann_submission.csv\",index=False)"
      ],
      "execution_count": 52,
      "outputs": [
        {
          "output_type": "display_data",
          "data": {
            "text/html": [
              ""
            ],
            "text/plain": [
              "<IPython.core.display.HTML object>"
            ]
          },
          "metadata": {
            "tags": []
          }
        }
      ]
    },
    {
      "cell_type": "code",
      "metadata": {
        "id": "4J9V1spIYfk4",
        "colab_type": "code",
        "colab": {}
      },
      "source": [
        ""
      ],
      "execution_count": 0,
      "outputs": []
    }
  ]
}