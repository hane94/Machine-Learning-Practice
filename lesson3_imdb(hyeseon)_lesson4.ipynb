{
 "cells": [
  {
   "cell_type": "markdown",
   "metadata": {
    "colab_type": "text",
    "id": "view-in-github"
   },
   "source": [
    "<a href=\"https://colab.research.google.com/github/hane94/Machine-Learning-Practice/blob/master/lesson3_imdb(hyeseon)_lesson4%20%EC%BD%94%EB%A9%98%ED%8A%B8%20%EC%B6%94%EA%B0%80.ipynb\" target=\"_parent\"><img src=\"https://colab.research.google.com/assets/colab-badge.svg\" alt=\"Open In Colab\"/></a>"
   ]
  },
  {
   "cell_type": "markdown",
   "metadata": {
    "colab_type": "text",
    "id": "P7kEJ4OCkrAP"
   },
   "source": [
    "# IMDB"
   ]
  },
  {
   "cell_type": "code",
   "execution_count": null,
   "metadata": {
    "colab": {},
    "colab_type": "code",
    "id": "QvCqatKXkrAQ"
   },
   "outputs": [],
   "source": [
    "%reload_ext autoreload\n",
    "%autoreload 2\n",
    "%matplotlib inline"
   ]
  },
  {
   "cell_type": "code",
   "execution_count": null,
   "metadata": {
    "colab": {},
    "colab_type": "code",
    "id": "fT58jy-6krAS"
   },
   "outputs": [],
   "source": [
    "from fastai.text import *"
   ]
  },
  {
   "cell_type": "markdown",
   "metadata": {
    "colab_type": "text",
    "id": "WS6OsArMkrAU"
   },
   "source": [
    "## Preparing the data"
   ]
  },
  {
   "cell_type": "markdown",
   "metadata": {
    "colab_type": "text",
    "id": "Z9Fzom1hkrAV"
   },
   "source": [
    "First let's download the dataset we are going to study. The [dataset](http://ai.stanford.edu/~amaas/data/sentiment/) has been curated by Andrew Maas et al. and contains a total of 100,000 reviews on IMDB. 25,000 of them are labelled as positive and negative for training, another 25,000 are labelled for testing (in both cases they are highly polarized). The remaning 50,000 is an additional unlabelled data (but we will find a use for it nonetheless).\n",
    "\n",
    "We'll begin with a sample we've prepared for you, so that things run quickly before going over the full dataset."
   ]
  },
  {
   "cell_type": "markdown",
   "metadata": {
    "colab_type": "text",
    "id": "bxQd2AvF3obg"
   },
   "source": [
    "텍스트 classifiation : 가짜뉴스 판별, 의학 보고서, 진단 등, 제품 관련 멘션들...하는데 활용"
   ]
  },
  {
   "cell_type": "code",
   "execution_count": null,
   "metadata": {
    "colab": {
     "base_uri": "https://localhost:8080/",
     "height": 51
    },
    "colab_type": "code",
    "id": "D45fPjXxkrAV",
    "outputId": "d6df404e-f208-4764-f676-f15ca999c606"
   },
   "outputs": [
    {
     "name": "stdout",
     "output_type": "stream",
     "text": [
      "Downloading http://files.fast.ai/data/examples/imdb_sample\n"
     ]
    },
    {
     "data": {
      "text/html": [],
      "text/plain": [
       "<IPython.core.display.HTML object>"
      ]
     },
     "metadata": {
      "tags": []
     },
     "output_type": "display_data"
    },
    {
     "data": {
      "text/plain": [
       "[PosixPath('/root/.fastai/data/imdb_sample/texts.csv')]"
      ]
     },
     "execution_count": 3,
     "metadata": {
      "tags": []
     },
     "output_type": "execute_result"
    }
   ],
   "source": [
    "path = untar_data(URLs.IMDB_SAMPLE)\n",
    "path.ls()"
   ]
  },
  {
   "cell_type": "markdown",
   "metadata": {
    "colab_type": "text",
    "id": "BdKIK8hFkrAY"
   },
   "source": [
    "It only contains one csv file, let's have a look at it."
   ]
  },
  {
   "cell_type": "code",
   "execution_count": null,
   "metadata": {
    "colab": {
     "base_uri": "https://localhost:8080/",
     "height": 204
    },
    "colab_type": "code",
    "id": "uk8vQwXwkrAY",
    "outputId": "de90017e-ad3a-415f-a3dd-1b69059ece46"
   },
   "outputs": [
    {
     "data": {
      "text/html": [
       "<div>\n",
       "<style scoped>\n",
       "    .dataframe tbody tr th:only-of-type {\n",
       "        vertical-align: middle;\n",
       "    }\n",
       "\n",
       "    .dataframe tbody tr th {\n",
       "        vertical-align: top;\n",
       "    }\n",
       "\n",
       "    .dataframe thead th {\n",
       "        text-align: right;\n",
       "    }\n",
       "</style>\n",
       "<table border=\"1\" class=\"dataframe\">\n",
       "  <thead>\n",
       "    <tr style=\"text-align: right;\">\n",
       "      <th></th>\n",
       "      <th>label</th>\n",
       "      <th>text</th>\n",
       "      <th>is_valid</th>\n",
       "    </tr>\n",
       "  </thead>\n",
       "  <tbody>\n",
       "    <tr>\n",
       "      <th>0</th>\n",
       "      <td>negative</td>\n",
       "      <td>Un-bleeping-believable! Meg Ryan doesn't even ...</td>\n",
       "      <td>False</td>\n",
       "    </tr>\n",
       "    <tr>\n",
       "      <th>1</th>\n",
       "      <td>positive</td>\n",
       "      <td>This is a extremely well-made film. The acting...</td>\n",
       "      <td>False</td>\n",
       "    </tr>\n",
       "    <tr>\n",
       "      <th>2</th>\n",
       "      <td>negative</td>\n",
       "      <td>Every once in a long while a movie will come a...</td>\n",
       "      <td>False</td>\n",
       "    </tr>\n",
       "    <tr>\n",
       "      <th>3</th>\n",
       "      <td>positive</td>\n",
       "      <td>Name just says it all. I watched this movie wi...</td>\n",
       "      <td>False</td>\n",
       "    </tr>\n",
       "    <tr>\n",
       "      <th>4</th>\n",
       "      <td>negative</td>\n",
       "      <td>This movie succeeds at being one of the most u...</td>\n",
       "      <td>False</td>\n",
       "    </tr>\n",
       "  </tbody>\n",
       "</table>\n",
       "</div>"
      ],
      "text/plain": [
       "      label                                               text  is_valid\n",
       "0  negative  Un-bleeping-believable! Meg Ryan doesn't even ...     False\n",
       "1  positive  This is a extremely well-made film. The acting...     False\n",
       "2  negative  Every once in a long while a movie will come a...     False\n",
       "3  positive  Name just says it all. I watched this movie wi...     False\n",
       "4  negative  This movie succeeds at being one of the most u...     False"
      ]
     },
     "execution_count": 4,
     "metadata": {
      "tags": []
     },
     "output_type": "execute_result"
    }
   ],
   "source": [
    "df = pd.read_csv(path/'texts.csv') #read it with pandas\n",
    "df.head()"
   ]
  },
  {
   "cell_type": "code",
   "execution_count": null,
   "metadata": {
    "colab": {
     "base_uri": "https://localhost:8080/",
     "height": 54
    },
    "colab_type": "code",
    "id": "m38vUiElkrAa",
    "outputId": "c2bd398c-26ac-43c5-daea-284191a3a69e"
   },
   "outputs": [
    {
     "data": {
      "text/plain": [
       "'This is a extremely well-made film. The acting, script and camera-work are all first-rate. The music is good, too, though it is mostly early in the film, when things are still relatively cheery. There are no really superstars in the cast, though several faces will be familiar. The entire cast does an excellent job with the script.<br /><br />But it is hard to watch, because there is no good end to a situation like the one presented. It is now fashionable to blame the British for setting Hindus and Muslims against each other, and then cruelly separating them into two countries. There is some merit in this view, but it\\'s also true that no one forced Hindus and Muslims in the region to mistreat each other as they did around the time of partition. It seems more likely that the British simply saw the tensions between the religions and were clever enough to exploit them to their own ends.<br /><br />The result is that there is much cruelty and inhumanity in the situation and this is very unpleasant to remember and to see on the screen. But it is never painted as a black-and-white case. There is baseness and nobility on both sides, and also the hope for change in the younger generation.<br /><br />There is redemption of a sort, in the end, when Puro has to make a hard choice between a man who has ruined her life, but also truly loved her, and her family which has disowned her, then later come looking for her. But by that point, she has no option that is without great pain for her.<br /><br />This film carries the message that both Muslims and Hindus have their grave faults, and also that both can be dignified and caring people. The reality of partition makes that realisation all the more wrenching, since there can never be real reconciliation across the India/Pakistan border. In that sense, it is similar to \"Mr & Mrs Iyer\".<br /><br />In the end, we were glad to have seen the film, even though the resolution was heartbreaking. If the UK and US could deal with their own histories of racism with this kind of frankness, they would certainly be better off.'"
      ]
     },
     "execution_count": 5,
     "metadata": {
      "tags": []
     },
     "output_type": "execute_result"
    }
   ],
   "source": [
    "df['text'][1]"
   ]
  },
  {
   "cell_type": "markdown",
   "metadata": {
    "colab_type": "text",
    "id": "NH9AUkNYkrAc"
   },
   "source": [
    "It contains one line per review, with the label ('negative' or 'positive'), the text and a flag to determine if it should be part of the validation set or the training set. If we ignore this flag, we can create a DataBunch containing this data in one line of code:"
   ]
  },
  {
   "cell_type": "code",
   "execution_count": null,
   "metadata": {
    "colab": {
     "base_uri": "https://localhost:8080/",
     "height": 17
    },
    "colab_type": "code",
    "id": "k13gAKb1krAc",
    "outputId": "f49aebed-b236-4c5b-e8e6-9f739a4b2903"
   },
   "outputs": [
    {
     "data": {
      "text/html": [],
      "text/plain": [
       "<IPython.core.display.HTML object>"
      ]
     },
     "metadata": {
      "tags": []
     },
     "output_type": "display_data"
    },
    {
     "data": {
      "text/html": [],
      "text/plain": [
       "<IPython.core.display.HTML object>"
      ]
     },
     "metadata": {
      "tags": []
     },
     "output_type": "display_data"
    }
   ],
   "source": [
    "data_lm = TextDataBunch.from_csv(path, 'texts.csv')"
   ]
  },
  {
   "cell_type": "markdown",
   "metadata": {
    "colab_type": "text",
    "id": "xwh6RyMJkrAe"
   },
   "source": [
    "By executing this line a process was launched that took a bit of time. Let's dig a bit into it. Images could be fed (almost) directly into a model because they're just a big array of pixel values that are floats between 0 and 1. A text is composed of words, and we can't apply mathematical functions to them directly. We first have to convert them to numbers. This is done in two differents steps: tokenization and numericalization. A `TextDataBunch` does all of that behind the scenes for you.\n",
    "\n",
    "Before we delve into the explanations, let's take the time to save the things that were calculated."
   ]
  },
  {
   "cell_type": "code",
   "execution_count": null,
   "metadata": {
    "colab": {},
    "colab_type": "code",
    "id": "mJYogZWQkrAe"
   },
   "outputs": [],
   "source": [
    "data_lm.save() #save the databunch"
   ]
  },
  {
   "cell_type": "markdown",
   "metadata": {
    "colab_type": "text",
    "id": "6tEWo82jkrAg"
   },
   "source": [
    "Next time we launch this notebook, we can skip the cell above that took a bit of time (and that will take a lot more when you get to the full dataset) and load those results like this:"
   ]
  },
  {
   "cell_type": "code",
   "execution_count": null,
   "metadata": {
    "colab": {},
    "colab_type": "code",
    "id": "jrb8gk1fkrAg"
   },
   "outputs": [],
   "source": [
    "data = load_data(path)"
   ]
  },
  {
   "cell_type": "markdown",
   "metadata": {
    "colab_type": "text",
    "id": "WaaMJrxdkrAi"
   },
   "source": [
    "### Tokenization : take words and convert them into a standard form of tokens"
   ]
  },
  {
   "cell_type": "markdown",
   "metadata": {
    "colab_type": "text",
    "id": "oC2XuVBakrAi"
   },
   "source": [
    "The first step of processing we make the texts go through is to split the raw sentences into words, or more exactly tokens. The easiest way to do this would be to split the string on spaces, but we can be smarter:\n",
    "\n",
    "- we need to take care of punctuation\n",
    "- some words are contractions of two different words, like isn't or don't\n",
    "- we may need to clean some parts of our texts, if there's HTML code for instance\n",
    "\n",
    "To see what the tokenizer had done behind the scenes, let's have a look at a few texts in a batch."
   ]
  },
  {
   "cell_type": "code",
   "execution_count": null,
   "metadata": {
    "colab": {
     "base_uri": "https://localhost:8080/",
     "height": 289
    },
    "colab_type": "code",
    "id": "UZsnf99JkrAj",
    "outputId": "cbc0be38-28f1-436f-bd84-9b30fbdd7d25"
   },
   "outputs": [
    {
     "data": {
      "text/html": [],
      "text/plain": [
       "<IPython.core.display.HTML object>"
      ]
     },
     "metadata": {
      "tags": []
     },
     "output_type": "display_data"
    },
    {
     "data": {
      "text/html": [],
      "text/plain": [
       "<IPython.core.display.HTML object>"
      ]
     },
     "metadata": {
      "tags": []
     },
     "output_type": "display_data"
    },
    {
     "data": {
      "text/html": [
       "<table border=\"1\" class=\"dataframe\">\n",
       "  <thead>\n",
       "    <tr style=\"text-align: right;\">\n",
       "      <th>text</th>\n",
       "      <th>target</th>\n",
       "    </tr>\n",
       "  </thead>\n",
       "  <tbody>\n",
       "    <tr>\n",
       "      <td>xxbos xxup the xxup shop xxup around xxup the xxup corner is one of the sweetest and most feel - good romantic comedies ever made . xxmaj there 's just no getting around that , and it 's hard to actually put one 's feeling for this film into words . xxmaj it 's not one of those films that tries too hard , nor does it come up with</td>\n",
       "      <td>positive</td>\n",
       "    </tr>\n",
       "    <tr>\n",
       "      <td>xxbos xxmaj this film sat on my xxmaj xxunk for weeks before i watched it . i dreaded a self - indulgent xxunk flick about relationships gone bad . i was wrong ; this was an xxunk xxunk into the screwed - up xxunk of xxmaj new xxmaj yorkers . \\n \\n  xxmaj the format is the same as xxmaj max xxmaj xxunk ' \" xxmaj la xxmaj ronde</td>\n",
       "      <td>positive</td>\n",
       "    </tr>\n",
       "    <tr>\n",
       "      <td>xxbos xxmaj many neglect that this is n't just a classic due to the fact that it 's the first xxup 3d game , or even the first xxunk - up . xxmaj it 's also one of the first xxunk games , one of the xxunk definitely the first ) truly claustrophobic games , and just a pretty well - rounded gaming experience in general . xxmaj with graphics</td>\n",
       "      <td>positive</td>\n",
       "    </tr>\n",
       "    <tr>\n",
       "      <td>xxbos i really wanted to love this show . i truly , honestly did . \\n \\n  xxmaj for the first time , gay viewers get their own version of the \" xxmaj the xxmaj bachelor \" . xxmaj with the help of his obligatory \" hag \" xxmaj xxunk , xxmaj james , a good looking , well - to - do thirty - something has the chance</td>\n",
       "      <td>negative</td>\n",
       "    </tr>\n",
       "    <tr>\n",
       "      <td>xxbos \\n \\n  i 'm sure things did n't exactly go the same way in the real life of xxmaj homer xxmaj hickam as they did in the film adaptation of his book , xxmaj rocket xxmaj boys , but the movie \" xxmaj october xxmaj sky \" ( an xxunk of the book 's title ) is good enough to stand alone . i have not read xxmaj</td>\n",
       "      <td>positive</td>\n",
       "    </tr>\n",
       "  </tbody>\n",
       "</table>"
      ],
      "text/plain": [
       "<IPython.core.display.HTML object>"
      ]
     },
     "metadata": {
      "tags": []
     },
     "output_type": "display_data"
    }
   ],
   "source": [
    "data = TextClasDataBunch.from_csv(path, 'texts.csv') #classification dataset\n",
    "data.show_batch() #xx -> special token(separate units)"
   ]
  },
  {
   "cell_type": "markdown",
   "metadata": {
    "colab_type": "text",
    "id": "_HLC6PlHkrAl"
   },
   "source": [
    "The texts are truncated at 100 tokens for more readability. We can see that it did more than just split on space and punctuation symbols: \n",
    "- the \"'s\" are grouped together in one token\n",
    "- the contractions are separated like this: \"did\", \"n't\"\n",
    "- content has been cleaned for any HTML symbol and lower cased\n",
    "- there are several special tokens (all those that begin by xx), to replace unknown tokens (see below) or to introduce different text fields (here we only have one)."
   ]
  },
  {
   "cell_type": "markdown",
   "metadata": {
    "colab_type": "text",
    "id": "9wgzUjLUkrAl"
   },
   "source": [
    "### Numericalization"
   ]
  },
  {
   "cell_type": "markdown",
   "metadata": {
    "colab_type": "text",
    "id": "JuRLNcYakrAl"
   },
   "source": [
    "Once we have extracted tokens from our texts, we convert to integers by creating a list of all the words used. We only keep the ones that appear at least twice with a maximum vocabulary size of 60,000 (by default) and replace the ones that don't make the cut by the unknown token `UNK`.\n",
    "\n",
    "The correspondance from ids to tokens is stored in the `vocab` attribute of our datasets, in a dictionary called `itos` (for int to string)."
   ]
  },
  {
   "cell_type": "code",
   "execution_count": null,
   "metadata": {
    "colab": {
     "base_uri": "https://localhost:8080/",
     "height": 187
    },
    "colab_type": "code",
    "id": "6yRMLUeFkrAm",
    "outputId": "a3c212b2-0bac-4b91-fdfb-f1cbe0f9904e"
   },
   "outputs": [
    {
     "data": {
      "text/plain": [
       "['xxunk',\n",
       " 'xxpad',\n",
       " 'xxbos',\n",
       " 'xxeos',\n",
       " 'xxfld',\n",
       " 'xxmaj',\n",
       " 'xxup',\n",
       " 'xxrep',\n",
       " 'xxwrep',\n",
       " 'the']"
      ]
     },
     "execution_count": 10,
     "metadata": {
      "tags": []
     },
     "output_type": "execute_result"
    }
   ],
   "source": [
    "data.vocab.itos[:10] #ten items of vocab -> possible token"
   ]
  },
  {
   "cell_type": "markdown",
   "metadata": {
    "colab_type": "text",
    "id": "iwYN8kQtkrAo"
   },
   "source": [
    "And if we look at what a what's in our datasets, we'll see the tokenized text as a representation:"
   ]
  },
  {
   "cell_type": "code",
   "execution_count": null,
   "metadata": {
    "colab": {
     "base_uri": "https://localhost:8080/",
     "height": 54
    },
    "colab_type": "code",
    "id": "tOAnGYuukrAo",
    "outputId": "6d047f9e-fa1b-4e75-fa5c-e83d5df4b911"
   },
   "outputs": [
    {
     "data": {
      "text/plain": [
       "Text xxbos xxmaj because ' cruel ' would be the only word in existence to describe the intentions of these film makers . xxmaj where do you even begin ? xxmaj in a spout of xxunk , i 'm going to start with the awful acting of nearly everybody in this movie . xxmaj xxunk that . xxmaj nearly does not belong in that sentence . i ca n't think of even one character who was portrayed well . xxmaj although , in all xxunk , it would be nearly impossible to portray these zero dimensional characters in a successful way . xxmaj still , the girl who played xxmaj xxunk ( whose name i xxunk do n't include - i 'm pretending she does n't exist ) remains one of the worst actors i 've ever seen , only xxunk by the guy who played xxmaj sebastian . xxmaj the story was xxmaj god awful . xxmaj it attempted to mirror the brilliance that was the first one but failed in so many ways . xxmaj pretty much every part of it was pointless - though i will admit ( xxunk ) that the plot twist was quite good it its surprise . xxmaj and the ending was at least slightly humorous . xxmaj but this film is up there with the worst i 've seen . xxmaj do n't watch it . xxmaj just do n't . xxmaj there is absolutely no value in watching it . xxmaj none . xxmaj it only takes away the enjoyment of the first ."
      ]
     },
     "execution_count": 11,
     "metadata": {
      "tags": []
     },
     "output_type": "execute_result"
    }
   ],
   "source": [
    "data.train_ds[0][0] #xxunk -> unknown token"
   ]
  },
  {
   "cell_type": "markdown",
   "metadata": {
    "colab_type": "text",
    "id": "ilOdgq9mkrAq"
   },
   "source": [
    "But the underlying data is all numbers"
   ]
  },
  {
   "cell_type": "code",
   "execution_count": null,
   "metadata": {
    "colab": {
     "base_uri": "https://localhost:8080/",
     "height": 34
    },
    "colab_type": "code",
    "id": "1s0rGONIkrAq",
    "outputId": "ab73fbcf-85ee-42ac-c87b-92859b2dcd60"
   },
   "outputs": [
    {
     "data": {
      "text/plain": [
       "array([   2,    5,  107,   66, 3720,   66,   74,   43,    9,   83])"
      ]
     },
     "execution_count": 12,
     "metadata": {
      "tags": []
     },
     "output_type": "execute_result"
    }
   ],
   "source": [
    "data.train_ds[0][0].data[:10] #무비 리뷰를 리스트의 넘버들로 대체, 2일경우 xxbos 5일 경우 xxmaj를 의미 /vocab안에 토큰이 어디있는지"
   ]
  },
  {
   "cell_type": "markdown",
   "metadata": {
    "colab_type": "text",
    "id": "yrSJD9RdkrAs"
   },
   "source": [
    "### With the data block API"
   ]
  },
  {
   "cell_type": "markdown",
   "metadata": {
    "colab_type": "text",
    "id": "BgXWbQWLkrAs"
   },
   "source": [
    "We can use the data block API with NLP(자연어처리) and have a lot more flexibility than what the default factory methods offer. In the previous example for instance, the data was randomly split between train and validation instead of reading the third column of the csv.\n",
    "\n",
    "With the data block API though, we have to manually call the tokenize and numericalize steps. This allows more flexibility, and if you're not using the defaults from fastai, the various arguments to pass will appear in the step they're revelant, so it'll be more readable."
   ]
  },
  {
   "cell_type": "code",
   "execution_count": null,
   "metadata": {
    "colab": {
     "base_uri": "https://localhost:8080/",
     "height": 17
    },
    "colab_type": "code",
    "id": "6VxyLx62krAs",
    "outputId": "9ff90356-943b-4fb7-817e-c8d984e0f81b"
   },
   "outputs": [
    {
     "data": {
      "text/html": [],
      "text/plain": [
       "<IPython.core.display.HTML object>"
      ]
     },
     "metadata": {
      "tags": []
     },
     "output_type": "display_data"
    },
    {
     "data": {
      "text/html": [],
      "text/plain": [
       "<IPython.core.display.HTML object>"
      ]
     },
     "metadata": {
      "tags": []
     },
     "output_type": "display_data"
    }
   ],
   "source": [
    "data = (TextList.from_csv(path, 'texts.csv', cols='text') #independent variables : text\n",
    "                .split_from_df(col=2) #어떻게 나눌것인지\n",
    "                .label_from_df(cols=0) #어떻게 레이블을 붙일것인지\n",
    "                .databunch())"
   ]
  },
  {
   "cell_type": "markdown",
   "metadata": {
    "colab_type": "text",
    "id": "NYaU9UY2krAu"
   },
   "source": [
    "## Language model"
   ]
  },
  {
   "cell_type": "markdown",
   "metadata": {
    "colab_type": "text",
    "id": "a9BWPDrlkrAv"
   },
   "source": [
    "Note that language models can use a lot of GPU, so you may need to decrease batchsize here."
   ]
  },
  {
   "cell_type": "code",
   "execution_count": null,
   "metadata": {
    "colab": {},
    "colab_type": "code",
    "id": "4qv7e9IwkrAv"
   },
   "outputs": [],
   "source": [
    "bs=48"
   ]
  },
  {
   "cell_type": "markdown",
   "metadata": {
    "colab_type": "text",
    "id": "XrVhTu4LkrAx"
   },
   "source": [
    "Now let's grab the full dataset for what follows."
   ]
  },
  {
   "cell_type": "code",
   "execution_count": null,
   "metadata": {
    "colab": {
     "base_uri": "https://localhost:8080/",
     "height": 153
    },
    "colab_type": "code",
    "id": "J-w6jveqkrAx",
    "outputId": "493a3e9a-7107-41fc-aac7-3b4a01c65eb3"
   },
   "outputs": [
    {
     "name": "stdout",
     "output_type": "stream",
     "text": [
      "Downloading https://s3.amazonaws.com/fast-ai-nlp/imdb\n"
     ]
    },
    {
     "data": {
      "text/html": [],
      "text/plain": [
       "<IPython.core.display.HTML object>"
      ]
     },
     "metadata": {
      "tags": []
     },
     "output_type": "display_data"
    },
    {
     "data": {
      "text/plain": [
       "[PosixPath('/root/.fastai/data/imdb/README'),\n",
       " PosixPath('/root/.fastai/data/imdb/train'),\n",
       " PosixPath('/root/.fastai/data/imdb/test'),\n",
       " PosixPath('/root/.fastai/data/imdb/tmp_lm'),\n",
       " PosixPath('/root/.fastai/data/imdb/imdb.vocab'),\n",
       " PosixPath('/root/.fastai/data/imdb/unsup'),\n",
       " PosixPath('/root/.fastai/data/imdb/tmp_clas')]"
      ]
     },
     "execution_count": 15,
     "metadata": {
      "tags": []
     },
     "output_type": "execute_result"
    }
   ],
   "source": [
    "path = untar_data(URLs.IMDB)\n",
    "path.ls()"
   ]
  },
  {
   "cell_type": "code",
   "execution_count": null,
   "metadata": {
    "colab": {
     "base_uri": "https://localhost:8080/",
     "height": 85
    },
    "colab_type": "code",
    "id": "2QJ1pMLrkrA0",
    "outputId": "f8b04c64-fe0b-43ef-c25a-c9b3f61b7c03"
   },
   "outputs": [
    {
     "data": {
      "text/plain": [
       "[PosixPath('/root/.fastai/data/imdb/train/unsupBow.feat'),\n",
       " PosixPath('/root/.fastai/data/imdb/train/pos'),\n",
       " PosixPath('/root/.fastai/data/imdb/train/neg'),\n",
       " PosixPath('/root/.fastai/data/imdb/train/labeledBow.feat')]"
      ]
     },
     "execution_count": 17,
     "metadata": {
      "tags": []
     },
     "output_type": "execute_result"
    }
   ],
   "source": [
    "(path/'train').ls()"
   ]
  },
  {
   "cell_type": "markdown",
   "metadata": {
    "colab_type": "text",
    "id": "En38ARbPkrA2"
   },
   "source": [
    "The reviews are in a training and test set following an imagenet structure. The only difference is that there is an `unsup` folder on top of `train` and `test` that contains the unlabelled data.\n",
    "\n",
    "We're not going to train a model that classifies the reviews from scratch. Like in computer vision, we'll use a model pretrained on a bigger dataset (a cleaned subset of wikipedia called [wikitext-103](https://einstein.ai/research/blog/the-wikitext-long-term-dependency-language-modeling-dataset)). That model has been trained to guess what the next word is, its input being all the previous words. It has a recurrent structure and a hidden state that is updated each time it sees a new word. This hidden state thus contains information about the sentence up to that point.\n",
    "\n",
    "We are going to use that 'knowledge' of the English language to build our classifier, but first, like for computer vision, we need to fine-tune the pretrained model to our particular dataset. Because the English of the reviews left by people on IMDB isn't the same as the English of wikipedia, we'll need to adjust the parameters of our model by a little bit. Plus there might be some words that would be extremely common in the reviews dataset but would be barely present in wikipedia, and therefore might not be part of the vocabulary the model was trained on."
   ]
  },
  {
   "cell_type": "markdown",
   "metadata": {
    "colab_type": "text",
    "id": "00msD-WfkrA2"
   },
   "source": [
    "This is where the unlabelled data is going to be useful to us, as we can use it to fine-tune our model. Let's create our data object with the data block API (next line takes a few minutes)."
   ]
  },
  {
   "cell_type": "code",
   "execution_count": null,
   "metadata": {
    "colab": {
     "base_uri": "https://localhost:8080/",
     "height": 17
    },
    "colab_type": "code",
    "id": "olZ5U5urkrA3",
    "outputId": "21a9a13b-31fc-4289-b9a7-e854def25f67"
   },
   "outputs": [
    {
     "data": {
      "text/html": [],
      "text/plain": [
       "<IPython.core.display.HTML object>"
      ]
     },
     "metadata": {
      "tags": []
     },
     "output_type": "display_data"
    },
    {
     "data": {
      "text/html": [],
      "text/plain": [
       "<IPython.core.display.HTML object>"
      ]
     },
     "metadata": {
      "tags": []
     },
     "output_type": "display_data"
    }
   ],
   "source": [
    "data_lm = (TextList.from_folder(path)\n",
    "           #Inputs: all the text files in path\n",
    "            .filter_by_folder(include=['train', 'test', 'unsup']) \n",
    "           #We may have other temp folders that contain text files so we only keep what's in train and test\n",
    "            .split_by_rand_pct(0.1) \n",
    "           #We randomly split and keep 10% (10,000 reviews) for validation\n",
    "            .label_for_lm() #lm = language model          \n",
    "           #We want to do a language model so we label accordingly\n",
    "            .databunch(bs=bs))\n",
    "data_lm.save('data_lm.pkl')"
   ]
  },
  {
   "cell_type": "markdown",
   "metadata": {
    "colab_type": "text",
    "id": "543BmgZ3krA4"
   },
   "source": [
    "We have to use a special kind of `TextDataBunch` for the language model, that ignores the labels (that's why we put 0 everywhere), will shuffle the texts at each epoch before concatenating them all together (only for training, we don't shuffle for the validation set) and will send batches that read that text in order with targets that are the next word in the sentence.\n",
    "\n",
    "The line before being a bit long, we want to load quickly the final ids by using the following cell."
   ]
  },
  {
   "cell_type": "code",
   "execution_count": null,
   "metadata": {
    "colab": {},
    "colab_type": "code",
    "id": "JXK-nvFKkrA5"
   },
   "outputs": [],
   "source": [
    "data_lm = load_data(path, 'data_lm.pkl', bs=bs)"
   ]
  },
  {
   "cell_type": "code",
   "execution_count": null,
   "metadata": {
    "colab": {
     "base_uri": "https://localhost:8080/",
     "height": 289
    },
    "colab_type": "code",
    "id": "n25E5hdUkrA6",
    "outputId": "bc62ca27-e146-4cc6-f565-ddd2837ca8ca"
   },
   "outputs": [
    {
     "data": {
      "text/html": [
       "<table border=\"1\" class=\"dataframe\">\n",
       "  <thead>\n",
       "    <tr style=\"text-align: right;\">\n",
       "      <th>idx</th>\n",
       "      <th>text</th>\n",
       "    </tr>\n",
       "  </thead>\n",
       "  <tbody>\n",
       "    <tr>\n",
       "      <td>0</td>\n",
       "      <td>groups internationally have asked for comments about xxmaj jeffs from xxmaj the xxup lds church . xxmaj jeffs is not mentioned in the movie at all but i think that it is ironic that this movie with all it 's points about xxmaj joseph also point away from the fews of the xxup flds church and their leader at this time in the media world . xxmaj this is a</td>\n",
       "    </tr>\n",
       "    <tr>\n",
       "      <td>1</td>\n",
       "      <td>climax , some of the jokes becomes lame . \\n \\n  3 . xxmaj storywise , this is xxmaj timon 's story and although the filmmakers try to integrate his tale with xxmaj simba 's , it makes the screenplay feel a little rushed at times . \\n \\n  xxmaj but hey , those details does n't impact this otherwise amusing movie . xxmaj it is the only</td>\n",
       "    </tr>\n",
       "    <tr>\n",
       "      <td>2</td>\n",
       "      <td>one of my very favorites ... xxmaj christopher xxmaj lee , who plays xxmaj john xxmaj reid . xxmaj after moving into the home with his peculiar daughter xxmaj jane , the nanny that he hires becomes awfully suspicious as to the way xxmaj reid suppresses his daughter . xxmaj well come to find out ... if she knew what xxmaj lee did , she would have certainly understood .</td>\n",
       "    </tr>\n",
       "    <tr>\n",
       "      <td>3</td>\n",
       "      <td>xxmaj sousa adapted theme song for days afterwards guaranteed ! ) xxbos xxmaj at the point in time that xxmaj the xxmaj lady from xxmaj shanghai was being made , the marriage of xxmaj orson xxmaj welles and xxmaj rita xxmaj hayworth was disintegrating . xxmaj the film was as much an effort by xxmaj welles to rekindle the old flames as it was to make a classic noir .</td>\n",
       "    </tr>\n",
       "    <tr>\n",
       "      <td>4</td>\n",
       "      <td>she 's still a virgin . xxmaj really ? xxmaj yes , really . xxmaj pauline begins to draw closer to xxmaj adele and xxmaj adele finally confesses that she 'd like to rid herself of her hymen and she would like xxmaj pauline to do it for her . xxmaj pauline , now drawn sexually to xxmaj adele , performs the task with subdued relish . xxup now xxmaj</td>\n",
       "    </tr>\n",
       "  </tbody>\n",
       "</table>"
      ],
      "text/plain": [
       "<IPython.core.display.HTML object>"
      ]
     },
     "metadata": {
      "tags": []
     },
     "output_type": "display_data"
    }
   ],
   "source": [
    "data_lm.show_batch()"
   ]
  },
  {
   "cell_type": "markdown",
   "metadata": {
    "colab_type": "text",
    "id": "wIkGOVbMkrA8"
   },
   "source": [
    "We can then put this in a learner object very easily with a model loaded with the pretrained weights. They'll be downloaded the first time you'll execute the following line and stored in `~/.fastai/models/` (or elsewhere if you specified different paths in your config file)."
   ]
  },
  {
   "cell_type": "code",
   "execution_count": null,
   "metadata": {
    "colab": {
     "base_uri": "https://localhost:8080/",
     "height": 34
    },
    "colab_type": "code",
    "id": "ezaqC6sokrA8",
    "outputId": "496be9a5-ced6-4634-980c-04b06d2e431c"
   },
   "outputs": [
    {
     "name": "stdout",
     "output_type": "stream",
     "text": [
      "Downloading https://s3.amazonaws.com/fast-ai-modelzoo/wt103-fwd\n"
     ]
    },
    {
     "data": {
      "text/html": [],
      "text/plain": [
       "<IPython.core.display.HTML object>"
      ]
     },
     "metadata": {
      "tags": []
     },
     "output_type": "display_data"
    }
   ],
   "source": [
    "learn = language_model_learner(data_lm, AWD_LSTM, drop_mult=0.3) #CNN이 아니고 RNN을 생성"
   ]
  },
  {
   "cell_type": "markdown",
   "metadata": {},
   "source": [
    "*여기 CNN보다 왜 RNN 쓰지 ?*"
   ]
  },
  {
   "cell_type": "code",
   "execution_count": null,
   "metadata": {
    "colab": {
     "base_uri": "https://localhost:8080/",
     "height": 112
    },
    "colab_type": "code",
    "id": "jLdQsTNlkrA-",
    "outputId": "e09d5b8c-a0f4-4ecb-d37f-a7a234b5e358"
   },
   "outputs": [
    {
     "data": {
      "text/html": [
       "\n",
       "    <div>\n",
       "        <style>\n",
       "            /* Turns off some styling */\n",
       "            progress {\n",
       "                /* gets rid of default border in Firefox and Opera. */\n",
       "                border: none;\n",
       "                /* Needs to be in here for Safari polyfill so background images work as expected. */\n",
       "                background-size: auto;\n",
       "            }\n",
       "            .progress-bar-interrupted, .progress-bar-interrupted::-webkit-progress-bar {\n",
       "                background: #F44336;\n",
       "            }\n",
       "        </style>\n",
       "      <progress value='0' class='' max='1', style='width:300px; height:20px; vertical-align: middle;'></progress>\n",
       "      0.00% [0/1 00:00<00:00]\n",
       "    </div>\n",
       "    \n",
       "<table border=\"1\" class=\"dataframe\">\n",
       "  <thead>\n",
       "    <tr style=\"text-align: left;\">\n",
       "      <th>epoch</th>\n",
       "      <th>train_loss</th>\n",
       "      <th>valid_loss</th>\n",
       "      <th>accuracy</th>\n",
       "      <th>time</th>\n",
       "    </tr>\n",
       "  </thead>\n",
       "  <tbody>\n",
       "  </tbody>\n",
       "</table><p>\n",
       "\n",
       "    <div>\n",
       "        <style>\n",
       "            /* Turns off some styling */\n",
       "            progress {\n",
       "                /* gets rid of default border in Firefox and Opera. */\n",
       "                border: none;\n",
       "                /* Needs to be in here for Safari polyfill so background images work as expected. */\n",
       "                background-size: auto;\n",
       "            }\n",
       "            .progress-bar-interrupted, .progress-bar-interrupted::-webkit-progress-bar {\n",
       "                background: #F44336;\n",
       "            }\n",
       "        </style>\n",
       "      <progress value='99' class='' max='8050', style='width:300px; height:20px; vertical-align: middle;'></progress>\n",
       "      1.23% [99/8050 00:18<24:56 11.5397]\n",
       "    </div>\n",
       "    "
      ],
      "text/plain": [
       "<IPython.core.display.HTML object>"
      ]
     },
     "metadata": {
      "tags": []
     },
     "output_type": "display_data"
    },
    {
     "name": "stdout",
     "output_type": "stream",
     "text": [
      "LR Finder is complete, type {learner_name}.recorder.plot() to see the graph.\n"
     ]
    }
   ],
   "source": [
    "learn.lr_find()"
   ]
  },
  {
   "cell_type": "code",
   "execution_count": null,
   "metadata": {
    "colab": {
     "base_uri": "https://localhost:8080/",
     "height": 279
    },
    "colab_type": "code",
    "id": "hgYU_fEBkrBA",
    "outputId": "723fdf45-a819-4333-d78a-0e9126498751"
   },
   "outputs": [
    {
     "data": {
      "image/png": "[encoded data removed]",
      "text/plain": [
       "<Figure size 432x288 with 1 Axes>"
      ]
     },
     "metadata": {
      "tags": []
     },
     "output_type": "display_data"
    }
   ],
   "source": [
    "learn.recorder.plot(skip_end=15)"
   ]
  },
  {
   "cell_type": "code",
   "execution_count": null,
   "metadata": {
    "colab": {
     "base_uri": "https://localhost:8080/",
     "height": 80
    },
    "colab_type": "code",
    "id": "bbcJKpP6krBB",
    "outputId": "c8287f38-976c-4faf-c62f-9fee9661f116"
   },
   "outputs": [
    {
     "data": {
      "text/html": [
       "<table border=\"1\" class=\"dataframe\">\n",
       "  <thead>\n",
       "    <tr style=\"text-align: left;\">\n",
       "      <th>epoch</th>\n",
       "      <th>train_loss</th>\n",
       "      <th>valid_loss</th>\n",
       "      <th>accuracy</th>\n",
       "      <th>time</th>\n",
       "    </tr>\n",
       "  </thead>\n",
       "  <tbody>\n",
       "    <tr>\n",
       "      <td>0</td>\n",
       "      <td>4.154908</td>\n",
       "      <td>4.028907</td>\n",
       "      <td>0.295460</td>\n",
       "      <td>26:05</td>\n",
       "    </tr>\n",
       "  </tbody>\n",
       "</table>"
      ],
      "text/plain": [
       "<IPython.core.display.HTML object>"
      ]
     },
     "metadata": {
      "tags": []
     },
     "output_type": "display_data"
    }
   ],
   "source": [
    "learn.fit_one_cycle(1, 1e-2, moms=(0.8,0.7))"
   ]
  },
  {
   "cell_type": "code",
   "execution_count": null,
   "metadata": {
    "colab": {},
    "colab_type": "code",
    "id": "wHaHl54FkrBD"
   },
   "outputs": [],
   "source": [
    "learn.save('fit_head')"
   ]
  },
  {
   "cell_type": "code",
   "execution_count": null,
   "metadata": {
    "colab": {},
    "colab_type": "code",
    "id": "YFHfmfrzkrBF"
   },
   "outputs": [],
   "source": [
    "learn.load('fit_head');"
   ]
  },
  {
   "cell_type": "markdown",
   "metadata": {
    "colab_type": "text",
    "id": "EAdNnfQvkrBG"
   },
   "source": [
    "To complete the fine-tuning, we can then unfeeze and launch a new training."
   ]
  },
  {
   "cell_type": "code",
   "execution_count": null,
   "metadata": {
    "colab": {},
    "colab_type": "code",
    "id": "4DY4C2mSkrBH"
   },
   "outputs": [],
   "source": [
    "learn.unfreeze()"
   ]
  },
  {
   "cell_type": "code",
   "execution_count": null,
   "metadata": {
    "colab": {
     "base_uri": "https://localhost:8080/",
     "height": 359
    },
    "colab_type": "code",
    "id": "dr5wPZpqkrBI",
    "outputId": "1b5f76d4-92bd-43e0-e956-645c02ec2293"
   },
   "outputs": [
    {
     "data": {
      "text/html": [
       "<table border=\"1\" class=\"dataframe\">\n",
       "  <thead>\n",
       "    <tr style=\"text-align: left;\">\n",
       "      <th>epoch</th>\n",
       "      <th>train_loss</th>\n",
       "      <th>valid_loss</th>\n",
       "      <th>accuracy</th>\n",
       "      <th>time</th>\n",
       "    </tr>\n",
       "  </thead>\n",
       "  <tbody>\n",
       "    <tr>\n",
       "      <td>0</td>\n",
       "      <td>3.873777</td>\n",
       "      <td>3.846457</td>\n",
       "      <td>0.313785</td>\n",
       "      <td>26:15</td>\n",
       "    </tr>\n",
       "    <tr>\n",
       "      <td>1</td>\n",
       "      <td>3.838392</td>\n",
       "      <td>3.805382</td>\n",
       "      <td>0.320648</td>\n",
       "      <td>26:14</td>\n",
       "    </tr>\n",
       "    <tr>\n",
       "      <td>2</td>\n",
       "      <td>3.807143</td>\n",
       "      <td>3.779789</td>\n",
       "      <td>0.324384</td>\n",
       "      <td>26:15</td>\n",
       "    </tr>\n",
       "    <tr>\n",
       "      <td>3</td>\n",
       "      <td>3.753798</td>\n",
       "      <td>3.747806</td>\n",
       "      <td>0.328038</td>\n",
       "      <td>26:14</td>\n",
       "    </tr>\n",
       "    <tr>\n",
       "      <td>4</td>\n",
       "      <td>3.704956</td>\n",
       "      <td>3.723449</td>\n",
       "      <td>0.330988</td>\n",
       "      <td>26:14</td>\n",
       "    </tr>\n",
       "    <tr>\n",
       "      <td>5</td>\n",
       "      <td>3.664742</td>\n",
       "      <td>3.700617</td>\n",
       "      <td>0.333525</td>\n",
       "      <td>26:20</td>\n",
       "    </tr>\n",
       "    <tr>\n",
       "      <td>6</td>\n",
       "      <td>3.625528</td>\n",
       "      <td>3.684546</td>\n",
       "      <td>0.335812</td>\n",
       "      <td>26:15</td>\n",
       "    </tr>\n",
       "    <tr>\n",
       "      <td>7</td>\n",
       "      <td>3.577188</td>\n",
       "      <td>3.674224</td>\n",
       "      <td>0.337210</td>\n",
       "      <td>26:14</td>\n",
       "    </tr>\n",
       "    <tr>\n",
       "      <td>8</td>\n",
       "      <td>3.547620</td>\n",
       "      <td>3.669702</td>\n",
       "      <td>0.337934</td>\n",
       "      <td>26:13</td>\n",
       "    </tr>\n",
       "    <tr>\n",
       "      <td>9</td>\n",
       "      <td>3.507543</td>\n",
       "      <td>3.669537</td>\n",
       "      <td>0.337938</td>\n",
       "      <td>26:14</td>\n",
       "    </tr>\n",
       "  </tbody>\n",
       "</table>"
      ],
      "text/plain": [
       "<IPython.core.display.HTML object>"
      ]
     },
     "metadata": {
      "tags": []
     },
     "output_type": "display_data"
    }
   ],
   "source": [
    "learn.fit_one_cycle(10, 1e-3, moms=(0.8,0.7))"
   ]
  },
  {
   "cell_type": "code",
   "execution_count": null,
   "metadata": {
    "colab": {},
    "colab_type": "code",
    "id": "bqB49tJZkrBK"
   },
   "outputs": [],
   "source": [
    "learn.save('fine_tuned')"
   ]
  },
  {
   "cell_type": "markdown",
   "metadata": {
    "colab_type": "text",
    "id": "SS-4o3WGkrBM"
   },
   "source": [
    "How good is our model? Well let's try to see what it predicts after a few given words."
   ]
  },
  {
   "cell_type": "code",
   "execution_count": null,
   "metadata": {
    "colab": {},
    "colab_type": "code",
    "id": "bUxQWK-VkrBM"
   },
   "outputs": [],
   "source": [
    "learn.load('fine_tuned');"
   ]
  },
  {
   "cell_type": "code",
   "execution_count": null,
   "metadata": {
    "colab": {},
    "colab_type": "code",
    "id": "m6gAaF9QkrBO"
   },
   "outputs": [],
   "source": [
    "TEXT = \"I liked this movie because\"\n",
    "N_WORDS = 40\n",
    "N_SENTENCES = 2"
   ]
  },
  {
   "cell_type": "code",
   "execution_count": null,
   "metadata": {
    "colab": {
     "base_uri": "https://localhost:8080/",
     "height": 71
    },
    "colab_type": "code",
    "id": "7nFFcjtOkrBQ",
    "outputId": "da1e7aef-1b29-4bae-b76d-6b963407dfea"
   },
   "outputs": [
    {
     "name": "stdout",
     "output_type": "stream",
     "text": [
      "I liked this movie because it was good . It 's about Black Robe , that 's what it is . The characters are real , and they are well - conceived , original and believable . Also , it\n",
      "I liked this movie because it was about a man who lives on the New York streets , and who happens to be a neo - Nazi . He has a lot of strange and mysterious things in him .\n"
     ]
    }
   ],
   "source": [
    "print(\"\\n\".join(learn.predict(TEXT, N_WORDS, temperature=0.75) for _ in range(N_SENTENCES))) #예측"
   ]
  },
  {
   "cell_type": "markdown",
   "metadata": {},
   "source": [
    "*예측 결과가 어떤지 해석 써 보시면 좋음*"
   ]
  },
  {
   "cell_type": "markdown",
   "metadata": {
    "colab_type": "text",
    "id": "_p_h7Jh6krBT"
   },
   "source": [
    "We have to save not only the model, but also its encoder, the part that's responsible for creating and updating the hidden state. For the next part, we don't care about the part that tries to guess the next word."
   ]
  },
  {
   "cell_type": "code",
   "execution_count": null,
   "metadata": {
    "colab": {},
    "colab_type": "code",
    "id": "OlBlBUH5krBU"
   },
   "outputs": [],
   "source": [
    "learn.save_encoder('fine_tuned_enc')"
   ]
  },
  {
   "cell_type": "markdown",
   "metadata": {
    "colab_type": "text",
    "id": "1xewPWFkflYE"
   },
   "source": [
    "여기까지 무비 리뷰 모델 형성(다음 단어를 예측하는) -> classifier단계를 통해 positive인지 negative인지 구별"
   ]
  },
  {
   "cell_type": "markdown",
   "metadata": {
    "colab_type": "text",
    "id": "_OJQU5gukrBV"
   },
   "source": [
    "## Classifier"
   ]
  },
  {
   "cell_type": "markdown",
   "metadata": {
    "colab_type": "text",
    "id": "as4c6-ywkrBW"
   },
   "source": [
    "Now, we'll create a new data object that only grabs the labelled data and keeps those labels. Again, this line takes a bit of time."
   ]
  },
  {
   "cell_type": "code",
   "execution_count": null,
   "metadata": {
    "colab": {},
    "colab_type": "code",
    "id": "xuPVa-ljkrBW"
   },
   "outputs": [],
   "source": [
    "path = untar_data(URLs.IMDB)"
   ]
  },
  {
   "cell_type": "code",
   "execution_count": null,
   "metadata": {
    "colab": {
     "base_uri": "https://localhost:8080/",
     "height": 17
    },
    "colab_type": "code",
    "id": "JZi6Sjm1krBX",
    "outputId": "a912be47-568e-499a-e802-aaa5445d0483"
   },
   "outputs": [
    {
     "data": {
      "text/html": [],
      "text/plain": [
       "<IPython.core.display.HTML object>"
      ]
     },
     "metadata": {
      "tags": []
     },
     "output_type": "display_data"
    },
    {
     "data": {
      "text/html": [],
      "text/plain": [
       "<IPython.core.display.HTML object>"
      ]
     },
     "metadata": {
      "tags": []
     },
     "output_type": "display_data"
    }
   ],
   "source": [
    "data_clas = (TextList.from_folder(path, vocab=data_lm.vocab) #랭귀지 모델과 정확히 일치하는 단어리스트를 사용해야함 *중요\n",
    "             #grab all the text files in path\n",
    "             .split_by_folder(valid='test')\n",
    "             #split by train and valid folder (that only keeps 'train' and 'test' so no need to filter)\n",
    "             .label_from_folder(classes=['neg', 'pos'])\n",
    "             #label them all with their folders\n",
    "             .databunch(bs=bs)) #create databunch\n",
    "\n",
    "data_clas.save('data_clas.pkl') #make a databunch"
   ]
  },
  {
   "cell_type": "code",
   "execution_count": null,
   "metadata": {
    "colab": {},
    "colab_type": "code",
    "id": "f11-J7t6krBZ"
   },
   "outputs": [],
   "source": [
    "data_clas = load_data(path, 'data_clas.pkl', bs=bs)"
   ]
  },
  {
   "cell_type": "code",
   "execution_count": null,
   "metadata": {
    "colab": {
     "base_uri": "https://localhost:8080/",
     "height": 289
    },
    "colab_type": "code",
    "id": "EBuIdDAWkrBb",
    "outputId": "4fab177c-f20a-42f6-fc15-efcca5273c4d"
   },
   "outputs": [
    {
     "data": {
      "text/html": [
       "<table border=\"1\" class=\"dataframe\">\n",
       "  <thead>\n",
       "    <tr style=\"text-align: right;\">\n",
       "      <th>text</th>\n",
       "      <th>target</th>\n",
       "    </tr>\n",
       "  </thead>\n",
       "  <tbody>\n",
       "    <tr>\n",
       "      <td>xxbos xxmaj match 1 : xxmaj tag xxmaj team xxmaj table xxmaj match xxmaj bubba xxmaj ray and xxmaj spike xxmaj dudley vs xxmaj eddie xxmaj guerrero and xxmaj chris xxmaj benoit xxmaj bubba xxmaj ray and xxmaj spike xxmaj dudley started things off with a xxmaj tag xxmaj team xxmaj table xxmaj match against xxmaj eddie xxmaj guerrero and xxmaj chris xxmaj benoit . xxmaj according to the rules</td>\n",
       "      <td>pos</td>\n",
       "    </tr>\n",
       "    <tr>\n",
       "      <td>xxbos xxmaj my xxmaj comments for xxup vivah : - xxmaj its a charming , idealistic love story starring xxmaj shahid xxmaj kapoor and xxmaj amrita xxmaj rao . xxmaj the film takes us back to small pleasures like the bride and bridegroom 's families sleeping on the floor , playing games together , their friendly banter and mutual respect . xxmaj vivah is about the sanctity of marriage and</td>\n",
       "      <td>pos</td>\n",
       "    </tr>\n",
       "    <tr>\n",
       "      <td>xxbos xxmaj by 1987 xxmaj hong xxmaj kong had given the world such films as xxmaj sammo xxmaj hung 's ` xxmaj encounters of the xxmaj spooky xxmaj kind ' xxmaj chow xxmaj yun xxmaj fat in xxmaj john xxmaj woo 's iconic ` a xxmaj better xxmaj tomorrow ' , ` xxmaj zu xxmaj warriors ' and the classic ` xxmaj mr xxmaj vampire ' . xxmaj jackie xxmaj</td>\n",
       "      <td>pos</td>\n",
       "    </tr>\n",
       "    <tr>\n",
       "      <td>xxbos xxmaj waitress : xxmaj honey , here 's them eggs you ordered . xxmaj honey , like bee , get it ? xxmaj that 's called pointless foreshadowing . \\n \\n  xxmaj edward xxmaj basket : xxmaj huh ? ( xxmaj on the road ) xxmaj basket : xxmaj here 's your doll back , little girl . xxmaj you really should n't be so careless with your</td>\n",
       "      <td>neg</td>\n",
       "    </tr>\n",
       "    <tr>\n",
       "      <td>xxbos xxmaj beat a path to this important documentary that looks like an attractive feature . xxmaj forbidden xxmaj xxunk ) is simply a better ( cinematic ) version of xxmaj norma xxmaj khouri 's book xxmaj forbidden xxmaj love , and xxup that was a best - seller . xxmaj an onion - peeling of literary fraud and of a pretty woman , xxmaj xxunk is the very best</td>\n",
       "      <td>pos</td>\n",
       "    </tr>\n",
       "  </tbody>\n",
       "</table>"
      ],
      "text/plain": [
       "<IPython.core.display.HTML object>"
      ]
     },
     "metadata": {
      "tags": []
     },
     "output_type": "display_data"
    }
   ],
   "source": [
    "data_clas.show_batch()"
   ]
  },
  {
   "cell_type": "markdown",
   "metadata": {
    "colab_type": "text",
    "id": "KTwkBEApkrBe"
   },
   "source": [
    "We can then create a model to classify those reviews and load the encoder we saved before."
   ]
  },
  {
   "cell_type": "code",
   "execution_count": null,
   "metadata": {
    "colab": {
     "base_uri": "https://localhost:8080/",
     "height": 1000
    },
    "colab_type": "code",
    "id": "uFfwKZO7krBe",
    "outputId": "6776cf90-6a76-4cbd-dc63-d1de7de7a964"
   },
   "outputs": [
    {
     "data": {
      "text/plain": [
       "RNNLearner(data=TextClasDataBunch;\n",
       "\n",
       "Train: LabelList (25000 items)\n",
       "x: TextList\n",
       "xxbos xxmaj this movie makes a statement about xxmaj joseph xxmaj smith , what he stood for , and what the xxup lds church believes . xxmaj with all the current media coverage of a certain fugitive people have confused the xxup lds church with the xxup flds church and criminal fugitive xxmaj warren xxmaj jeffs . xxmaj jeffs is xxmaj not associated with the xxup lds church yet media groups internationally have asked for comments about xxmaj jeffs from xxmaj the xxup lds church . xxmaj jeffs is not mentioned in the movie at all but i think that it is ironic that this movie with all it 's points about xxmaj joseph also point away from the fews of the xxup flds church and their leader at this time in the media world . xxmaj this is a movie about xxmaj joseph xxmaj smith and a great one at that . xxmaj some of the most obvious differences between xxmaj jeffs and xxmaj joseph is portrayed in xxmaj joseph 's humanity , acceptance and love . xxmaj jeffs views and opinions differ greatly from xxmaj joseph xxmaj smith and the xxup lds xxmaj church and it is seen in this movie . xxmaj jeffs thinks of the \" xxmaj negro \" as devils . xxmaj joseph xxmaj smith knew they were children of god and gave up his wife 's favorite horse to a xxmaj african xxmaj american ( former slave ) to buy his son 's freedom . xxmaj joseph is shown doing housework for his wife xxmaj emma and is criticized by a member until xxmaj joseph tells him that a man may lose his wife in the next life if she chooses not to stay with her husband and that doing chores is a way to help and cherish your wife . xxmaj jeffs brought one of his polygamist wives to her knees in front of a class full of students by grabbing her braid and twisting it painfully till she came to her knees . xxmaj lastly xxmaj joseph participated with law enforcement and sought aid from the government at all times . xxmaj jeffs thumbs his nose at government and flees at all times . \n",
       " \n",
       "  i loved this movie and if you do n't know much about xxmaj joseph xxmaj smith and what the xxup lds church believes , then this is the movie to see . xxmaj and if you had confused the xxup lds xxmaj church with the xxup flds church then you really need to get your act together . xxmaj we are not much different from anyone who believes in xxmaj jesus xxmaj christ , the xxmaj sanctity of marriage and the family , as well a patriotic to our homeland and country . xxmaj we are all different as well just like you can find different protestants , xxmaj presbyterians , methodist , baptist and xxmaj catholics . xxmaj what 's important is our message and what we stand for . xxmaj this movie trys to portray that but there is so much of xxmaj joseph 's life that ca n't be covered in a mere 2 hour movie . xxmaj this was a really great show .,xxbos xxmaj maybe one of the most entertaining xxmaj ninja - movies ever made . a hard - hitting action movie with lots of gore and slow motion ( xxunk ! ) . xxmaj made in ´ 83 and still the greatest swedish action movie made so far ! xxmaj and we can hardly wait to see the upcoming sequel , xxmaj ninja mission 2000 - xxmaj the legacy of xxmaj markov !,xxbos ever watched . xxmaj it deals so gently and subtly not only with xxmaj aids ( which is only alluded ) and gay life , but also with old age , dying and death . xxmaj it 's a deep and beautiful movie , ( also visually ) , of a very special director . xxmaj highly xxunk,xxbos xxmaj to a certain extent , i actually liked this film better than the original xxup vampires . i found that movie to be quite misogynistic . xxmaj as a woman and a horror fan , i 'm used to the fact that women in peril are a staple of the genre . xxmaj but they just slap xxmaj sheryl xxmaj lee around way too much . xxmaj in this movie , xxmaj natasha xxmaj wagner is a more fully - realized character , and the main bad guy is a gal ! xxmaj arly xxmaj jover ( who played a sidekick vamp in xxup blade ) is very otherworldly and deadly . xxmaj jon xxmaj bon xxmaj jovi ... okay , yeah , no great actor , but he does xxup ok . xxmaj at least he does n't start to sing . xxmaj catch it on cable if you can . xxmaj it 's on xxmaj encore xxmaj action this month .,xxbos * * xxmaj warning - this post may contain spoilers * * \n",
       " \n",
       "  i only got a xxmaj gamecube in xxmaj september 2005 , and the first two games i bought were xxmaj james xxmaj bond games , the decent xxmaj agent xxmaj under xxmaj fire and the dull xxmaj goldeneye xxmaj rogue xxmaj agent . xxmaj the next game i planned to get was xxmaj everything or xxmaj nothing , because my friend told me that it was better than the two games i already had . i have to say , he was right . \n",
       " \n",
       "  i bought this for a tenner in xxup hmv , and when i got home , i slammed it in to my xxmaj cube and played it for hours on end . xxmaj it was much better than my other two games , and there was a much better and more interesting storyline . xxmaj graphics were some of the best i have seen ( but now that the xxup xbox 360 has come out , xxmaj farcry xxmaj instincts xxmaj predator has some of the best graphics known to man ) . xxmaj the storyline was clever ; mad man ( xxmaj willem xxmaj dafoe , named as xxmaj nikolai xxmaj diavolo ) and beautiful henchwoman ( xxmaj heidi xxmaj klum , named as xxmaj katya xxmaj xxunk ) , try to destroy the world with tiny nanobots , which at the start of the game , you , xxmaj james xxmaj bond , have to destroy on a train . xxmaj the bad thing is that one of them is hidden in xxmaj katya 's boobs . xxmaj you then have to thwart their plans and save the world . \n",
       " \n",
       "  xxmaj the great thing about this game is that it actually has actors voicing the characters , such as xxmaj cleese voicing xxup q. xxmaj there are 27 levels , some of them short and some of them pretty long and tricky . \n",
       " \n",
       "  xxmaj gameplay - 10 / 10 xxmaj graphics - 9 / 10 xxmaj sound - 9 / 10 xxmaj replay value - 7 / 10 xxmaj multiplayer - 8 / 10 \n",
       " \n",
       "  i give this game a grand total of 90 %\n",
       "y: CategoryList\n",
       "pos,pos,pos,pos,pos\n",
       "Path: /root/.fastai/data/imdb;\n",
       "\n",
       "Valid: LabelList (25000 items)\n",
       "x: TextList\n",
       "xxbos xxmaj what can i say about this film other than the narrative is one of the most exciting in film history ... and based on a true story ! xxmaj being old enough to remember the xxmaj berlin xxmaj wall when it was still used to contain a country , this film gives you a dark insight into the grim incarceration of xxmaj east xxmaj xxunk , and their desperate attempts to escape , no matter what the cost . xxmaj the film follows the lives of two families , who decide to escape using a hot - air balloon manufactured by themselves . xxmaj forever fearing arrest by the authorities , under scrutiny by neighbours , they have to calculate a plan to reach the other side of the wall . a tense & thrilling story of courage and determination which truly pays homage to all those who succeeded and failed the treacherous journey to xxmaj west xxmaj berlin and freedom .,xxbos xxmaj this is my all time favorite xxmaj looney xxmaj tunes cartoon . xxmaj it 's a common plot : xxmaj daffy xxmaj duck tries to convince xxmaj elmer xxmaj fudd that it is really rabbit season and shoot xxmaj bugs . xxmaj but your can never outsmart that rabbit ! xxmaj in addition to usual cartoon comedy , this cartoon is supported by great word play that will keep you rolling on the floor .,xxbos \" xxmaj mr. xxmaj bug xxmaj goes xxmaj to xxmaj town \" was the last major achievement the xxmaj fleischer studios produced . xxmaj the quality of the xxmaj superman series produced at the same time is evident in this extraordinary film . \n",
       " \n",
       "  xxmaj the music and lyrics by xxmaj frank xxmaj loesser and xxmaj hoagy xxmaj carmichael ( with assistance by xxmaj xxunk veteran xxmaj sammy xxmaj xxunk are quite good , but not as much as the scoring of the picture by xxmaj leigh xxmaj harline who also scored xxmaj snow xxmaj white for xxmaj disney . xxmaj harline 's \" atmospheric music \" is superb , and a treat for the ears . \n",
       " \n",
       "  xxmaj the layout and staging of the picture was years ahead of it 's time , and once again the xxmaj fleischer 's background artists outdid themselves . xxmaj the xxunk beauty of the film can not be denied , and while xxmaj hoppity the grasshopper is the star , the characters of xxmaj swat the xxmaj fly and xxmaj smack the xxmaj mosquito steal the picture . xxmaj swat 's voicing by xxmaj jack xxmaj mercer ( of xxmaj popeye fame ) is priceless . xxmaj kenny xxmaj gardner ( brother - in - law ) of xxmaj guy xxmaj lombardo ... and a featured vocalist in his band ... does his usual pleasant job in the role of xxmaj dick xxmaj xxunk . \n",
       " \n",
       "  xxmaj the movie has been criticized for all the wrong reasons . xxmaj the xxmaj fleischer xxmaj studios were animation experts par excellence and this shows very clearly in the finished product . xxmaj the movie is tuneful , the story great for all ages , and the final scenes of the bugs scrambling for their lives upon a rising skyscraper is some of the best staging and animation of any animated film past and present . \n",
       " \n",
       "  xxmaj do not miss this wonderfully hand drawn film . xxmaj also do n't fail to appreciate the title sequence with the most elaborate example of xxmaj max xxmaj fleischer 's remarkable xxup 3-d xxunk process which took four months to construct and employed 16,000 tiny panes of glass in the \" electrified \" buildings of xxmaj manhattan . \n",
       " \n",
       "  xxmaj do not miss xxmaj mr. xxmaj bug xxmaj goes xxmaj to xxmaj town ... aka xxmaj hoppity xxmaj goes xxmaj to xxmaj town . i 'll wager you 'll be bug eyed at the results !,xxbos xxmaj one of the more interesting films i 've seen . xxmaj lord xxmaj montague is \n",
       " \n",
       "  black , xxmaj lord xxmaj capulet is in charge of the porn industry that was \n",
       " \n",
       "  handed down to him by xxmaj montague , not to mention the dismemberment of fingers , the squishing of heads , etc . etc . \n",
       " \n",
       "  xxmaj another xxmaj troma hit , this beats the xxmaj toxic xxmaj avenger . xxmaj this is by far my \n",
       " \n",
       "  favorite xxmaj troma flick ... xxmaj and there 's a priest who fights like xxmaj bruce xxmaj lee . xxmaj nothing can beat \n",
       " \n",
       "  that . xxunk,xxbos xxmaj every once in a while a film comes along with characters we all know and love . a film where you see people you know portrayed on screen . xxmaj it 's cinema very at its best . \n",
       " \n",
       "  xxmaj lackawanna xxmaj blues is that film . xxmaj set in 1960s upstate xxmaj new xxmaj york , the story surrounds a xxunk solid woman , who is the foundation for her community . xxmaj this , based on a true story film , is told from a child she accepted as her own . xxmaj this child , xxmaj ruben xxmaj santiago - xxmaj hudson wrote the screenplay . \n",
       " \n",
       "  * xxmaj emmy winner , xxup s. xxmaj epatha xxmaj merkerson stars as xxmaj nanny , a woman who has wit , drive and determination for helping others in her boarding home . xxmaj she does this as she wrestles with infidelity from her young lover , xxmaj bill xxmaj crosby , played by the * * xxmaj oscar nominated xxmaj terrence xxmaj howard . \n",
       " \n",
       "  xxmaj but make no mistake ; see this film for the amazing performance of xxmaj merkerson , who is brilliant in this role . xxmaj she encompasses a person we have all known , and perhaps love . \n",
       " \n",
       "  xxmaj lackawanna xxmaj blues is already on xxup dvd ; be sure to pick it up at your local video story today . \n",
       " \n",
       "  * xxmaj merkerson has already won an xxmaj emmy , xxmaj golden xxmaj globe and xxmaj screen xxmaj actors xxmaj guild for this role . \n",
       " \n",
       "  * * xxmaj howard has an xxmaj oscar nomination for his role in xxmaj hustle & xxmaj flow .\n",
       "y: CategoryList\n",
       "pos,pos,pos,pos,pos\n",
       "Path: /root/.fastai/data/imdb;\n",
       "\n",
       "Test: None, model=SequentialRNN(\n",
       "  (0): MultiBatchEncoder(\n",
       "    (module): AWD_LSTM(\n",
       "      (encoder): Embedding(60000, 400, padding_idx=1)\n",
       "      (encoder_dp): EmbeddingDropout(\n",
       "        (emb): Embedding(60000, 400, padding_idx=1)\n",
       "      )\n",
       "      (rnns): ModuleList(\n",
       "        (0): WeightDropout(\n",
       "          (module): LSTM(400, 1152, batch_first=True)\n",
       "        )\n",
       "        (1): WeightDropout(\n",
       "          (module): LSTM(1152, 1152, batch_first=True)\n",
       "        )\n",
       "        (2): WeightDropout(\n",
       "          (module): LSTM(1152, 400, batch_first=True)\n",
       "        )\n",
       "      )\n",
       "      (input_dp): RNNDropout()\n",
       "      (hidden_dps): ModuleList(\n",
       "        (0): RNNDropout()\n",
       "        (1): RNNDropout()\n",
       "        (2): RNNDropout()\n",
       "      )\n",
       "    )\n",
       "  )\n",
       "  (1): PoolingLinearClassifier(\n",
       "    (layers): Sequential(\n",
       "      (0): BatchNorm1d(1200, eps=1e-05, momentum=0.1, affine=True, track_running_stats=True)\n",
       "      (1): Dropout(p=0.2, inplace=False)\n",
       "      (2): Linear(in_features=1200, out_features=50, bias=True)\n",
       "      (3): ReLU(inplace=True)\n",
       "      (4): BatchNorm1d(50, eps=1e-05, momentum=0.1, affine=True, track_running_stats=True)\n",
       "      (5): Dropout(p=0.1, inplace=False)\n",
       "      (6): Linear(in_features=50, out_features=2, bias=True)\n",
       "    )\n",
       "  )\n",
       "), opt_func=functools.partial(<class 'torch.optim.adam.Adam'>, betas=(0.9, 0.99)), loss_func=FlattenedLoss of CrossEntropyLoss(), metrics=[<function accuracy at 0x7f9e9a821f28>], true_wd=True, bn_wd=True, wd=0.01, train_bn=True, path=PosixPath('/root/.fastai/data/imdb'), model_dir='models', callback_fns=[functools.partial(<class 'fastai.basic_train.Recorder'>, add_time=True, silent=False)], callbacks=[RNNTrainer\n",
       "learn: RNNLearner(data=TextClasDataBunch;\n",
       "\n",
       "Train: LabelList (25000 items)\n",
       "x: TextList\n",
       "xxbos xxmaj this movie makes a statement about xxmaj joseph xxmaj smith , what he stood for , and what the xxup lds church believes . xxmaj with all the current media coverage of a certain fugitive people have confused the xxup lds church with the xxup flds church and criminal fugitive xxmaj warren xxmaj jeffs . xxmaj jeffs is xxmaj not associated with the xxup lds church yet media groups internationally have asked for comments about xxmaj jeffs from xxmaj the xxup lds church . xxmaj jeffs is not mentioned in the movie at all but i think that it is ironic that this movie with all it 's points about xxmaj joseph also point away from the fews of the xxup flds church and their leader at this time in the media world . xxmaj this is a movie about xxmaj joseph xxmaj smith and a great one at that . xxmaj some of the most obvious differences between xxmaj jeffs and xxmaj joseph is portrayed in xxmaj joseph 's humanity , acceptance and love . xxmaj jeffs views and opinions differ greatly from xxmaj joseph xxmaj smith and the xxup lds xxmaj church and it is seen in this movie . xxmaj jeffs thinks of the \" xxmaj negro \" as devils . xxmaj joseph xxmaj smith knew they were children of god and gave up his wife 's favorite horse to a xxmaj african xxmaj american ( former slave ) to buy his son 's freedom . xxmaj joseph is shown doing housework for his wife xxmaj emma and is criticized by a member until xxmaj joseph tells him that a man may lose his wife in the next life if she chooses not to stay with her husband and that doing chores is a way to help and cherish your wife . xxmaj jeffs brought one of his polygamist wives to her knees in front of a class full of students by grabbing her braid and twisting it painfully till she came to her knees . xxmaj lastly xxmaj joseph participated with law enforcement and sought aid from the government at all times . xxmaj jeffs thumbs his nose at government and flees at all times . \n",
       " \n",
       "  i loved this movie and if you do n't know much about xxmaj joseph xxmaj smith and what the xxup lds church believes , then this is the movie to see . xxmaj and if you had confused the xxup lds xxmaj church with the xxup flds church then you really need to get your act together . xxmaj we are not much different from anyone who believes in xxmaj jesus xxmaj christ , the xxmaj sanctity of marriage and the family , as well a patriotic to our homeland and country . xxmaj we are all different as well just like you can find different protestants , xxmaj presbyterians , methodist , baptist and xxmaj catholics . xxmaj what 's important is our message and what we stand for . xxmaj this movie trys to portray that but there is so much of xxmaj joseph 's life that ca n't be covered in a mere 2 hour movie . xxmaj this was a really great show .,xxbos xxmaj maybe one of the most entertaining xxmaj ninja - movies ever made . a hard - hitting action movie with lots of gore and slow motion ( xxunk ! ) . xxmaj made in ´ 83 and still the greatest swedish action movie made so far ! xxmaj and we can hardly wait to see the upcoming sequel , xxmaj ninja mission 2000 - xxmaj the legacy of xxmaj markov !,xxbos ever watched . xxmaj it deals so gently and subtly not only with xxmaj aids ( which is only alluded ) and gay life , but also with old age , dying and death . xxmaj it 's a deep and beautiful movie , ( also visually ) , of a very special director . xxmaj highly xxunk,xxbos xxmaj to a certain extent , i actually liked this film better than the original xxup vampires . i found that movie to be quite misogynistic . xxmaj as a woman and a horror fan , i 'm used to the fact that women in peril are a staple of the genre . xxmaj but they just slap xxmaj sheryl xxmaj lee around way too much . xxmaj in this movie , xxmaj natasha xxmaj wagner is a more fully - realized character , and the main bad guy is a gal ! xxmaj arly xxmaj jover ( who played a sidekick vamp in xxup blade ) is very otherworldly and deadly . xxmaj jon xxmaj bon xxmaj jovi ... okay , yeah , no great actor , but he does xxup ok . xxmaj at least he does n't start to sing . xxmaj catch it on cable if you can . xxmaj it 's on xxmaj encore xxmaj action this month .,xxbos * * xxmaj warning - this post may contain spoilers * * \n",
       " \n",
       "  i only got a xxmaj gamecube in xxmaj september 2005 , and the first two games i bought were xxmaj james xxmaj bond games , the decent xxmaj agent xxmaj under xxmaj fire and the dull xxmaj goldeneye xxmaj rogue xxmaj agent . xxmaj the next game i planned to get was xxmaj everything or xxmaj nothing , because my friend told me that it was better than the two games i already had . i have to say , he was right . \n",
       " \n",
       "  i bought this for a tenner in xxup hmv , and when i got home , i slammed it in to my xxmaj cube and played it for hours on end . xxmaj it was much better than my other two games , and there was a much better and more interesting storyline . xxmaj graphics were some of the best i have seen ( but now that the xxup xbox 360 has come out , xxmaj farcry xxmaj instincts xxmaj predator has some of the best graphics known to man ) . xxmaj the storyline was clever ; mad man ( xxmaj willem xxmaj dafoe , named as xxmaj nikolai xxmaj diavolo ) and beautiful henchwoman ( xxmaj heidi xxmaj klum , named as xxmaj katya xxmaj xxunk ) , try to destroy the world with tiny nanobots , which at the start of the game , you , xxmaj james xxmaj bond , have to destroy on a train . xxmaj the bad thing is that one of them is hidden in xxmaj katya 's boobs . xxmaj you then have to thwart their plans and save the world . \n",
       " \n",
       "  xxmaj the great thing about this game is that it actually has actors voicing the characters , such as xxmaj cleese voicing xxup q. xxmaj there are 27 levels , some of them short and some of them pretty long and tricky . \n",
       " \n",
       "  xxmaj gameplay - 10 / 10 xxmaj graphics - 9 / 10 xxmaj sound - 9 / 10 xxmaj replay value - 7 / 10 xxmaj multiplayer - 8 / 10 \n",
       " \n",
       "  i give this game a grand total of 90 %\n",
       "y: CategoryList\n",
       "pos,pos,pos,pos,pos\n",
       "Path: /root/.fastai/data/imdb;\n",
       "\n",
       "Valid: LabelList (25000 items)\n",
       "x: TextList\n",
       "xxbos xxmaj what can i say about this film other than the narrative is one of the most exciting in film history ... and based on a true story ! xxmaj being old enough to remember the xxmaj berlin xxmaj wall when it was still used to contain a country , this film gives you a dark insight into the grim incarceration of xxmaj east xxmaj xxunk , and their desperate attempts to escape , no matter what the cost . xxmaj the film follows the lives of two families , who decide to escape using a hot - air balloon manufactured by themselves . xxmaj forever fearing arrest by the authorities , under scrutiny by neighbours , they have to calculate a plan to reach the other side of the wall . a tense & thrilling story of courage and determination which truly pays homage to all those who succeeded and failed the treacherous journey to xxmaj west xxmaj berlin and freedom .,xxbos xxmaj this is my all time favorite xxmaj looney xxmaj tunes cartoon . xxmaj it 's a common plot : xxmaj daffy xxmaj duck tries to convince xxmaj elmer xxmaj fudd that it is really rabbit season and shoot xxmaj bugs . xxmaj but your can never outsmart that rabbit ! xxmaj in addition to usual cartoon comedy , this cartoon is supported by great word play that will keep you rolling on the floor .,xxbos \" xxmaj mr. xxmaj bug xxmaj goes xxmaj to xxmaj town \" was the last major achievement the xxmaj fleischer studios produced . xxmaj the quality of the xxmaj superman series produced at the same time is evident in this extraordinary film . \n",
       " \n",
       "  xxmaj the music and lyrics by xxmaj frank xxmaj loesser and xxmaj hoagy xxmaj carmichael ( with assistance by xxmaj xxunk veteran xxmaj sammy xxmaj xxunk are quite good , but not as much as the scoring of the picture by xxmaj leigh xxmaj harline who also scored xxmaj snow xxmaj white for xxmaj disney . xxmaj harline 's \" atmospheric music \" is superb , and a treat for the ears . \n",
       " \n",
       "  xxmaj the layout and staging of the picture was years ahead of it 's time , and once again the xxmaj fleischer 's background artists outdid themselves . xxmaj the xxunk beauty of the film can not be denied , and while xxmaj hoppity the grasshopper is the star , the characters of xxmaj swat the xxmaj fly and xxmaj smack the xxmaj mosquito steal the picture . xxmaj swat 's voicing by xxmaj jack xxmaj mercer ( of xxmaj popeye fame ) is priceless . xxmaj kenny xxmaj gardner ( brother - in - law ) of xxmaj guy xxmaj lombardo ... and a featured vocalist in his band ... does his usual pleasant job in the role of xxmaj dick xxmaj xxunk . \n",
       " \n",
       "  xxmaj the movie has been criticized for all the wrong reasons . xxmaj the xxmaj fleischer xxmaj studios were animation experts par excellence and this shows very clearly in the finished product . xxmaj the movie is tuneful , the story great for all ages , and the final scenes of the bugs scrambling for their lives upon a rising skyscraper is some of the best staging and animation of any animated film past and present . \n",
       " \n",
       "  xxmaj do not miss this wonderfully hand drawn film . xxmaj also do n't fail to appreciate the title sequence with the most elaborate example of xxmaj max xxmaj fleischer 's remarkable xxup 3-d xxunk process which took four months to construct and employed 16,000 tiny panes of glass in the \" electrified \" buildings of xxmaj manhattan . \n",
       " \n",
       "  xxmaj do not miss xxmaj mr. xxmaj bug xxmaj goes xxmaj to xxmaj town ... aka xxmaj hoppity xxmaj goes xxmaj to xxmaj town . i 'll wager you 'll be bug eyed at the results !,xxbos xxmaj one of the more interesting films i 've seen . xxmaj lord xxmaj montague is \n",
       " \n",
       "  black , xxmaj lord xxmaj capulet is in charge of the porn industry that was \n",
       " \n",
       "  handed down to him by xxmaj montague , not to mention the dismemberment of fingers , the squishing of heads , etc . etc . \n",
       " \n",
       "  xxmaj another xxmaj troma hit , this beats the xxmaj toxic xxmaj avenger . xxmaj this is by far my \n",
       " \n",
       "  favorite xxmaj troma flick ... xxmaj and there 's a priest who fights like xxmaj bruce xxmaj lee . xxmaj nothing can beat \n",
       " \n",
       "  that . xxunk,xxbos xxmaj every once in a while a film comes along with characters we all know and love . a film where you see people you know portrayed on screen . xxmaj it 's cinema very at its best . \n",
       " \n",
       "  xxmaj lackawanna xxmaj blues is that film . xxmaj set in 1960s upstate xxmaj new xxmaj york , the story surrounds a xxunk solid woman , who is the foundation for her community . xxmaj this , based on a true story film , is told from a child she accepted as her own . xxmaj this child , xxmaj ruben xxmaj santiago - xxmaj hudson wrote the screenplay . \n",
       " \n",
       "  * xxmaj emmy winner , xxup s. xxmaj epatha xxmaj merkerson stars as xxmaj nanny , a woman who has wit , drive and determination for helping others in her boarding home . xxmaj she does this as she wrestles with infidelity from her young lover , xxmaj bill xxmaj crosby , played by the * * xxmaj oscar nominated xxmaj terrence xxmaj howard . \n",
       " \n",
       "  xxmaj but make no mistake ; see this film for the amazing performance of xxmaj merkerson , who is brilliant in this role . xxmaj she encompasses a person we have all known , and perhaps love . \n",
       " \n",
       "  xxmaj lackawanna xxmaj blues is already on xxup dvd ; be sure to pick it up at your local video story today . \n",
       " \n",
       "  * xxmaj merkerson has already won an xxmaj emmy , xxmaj golden xxmaj globe and xxmaj screen xxmaj actors xxmaj guild for this role . \n",
       " \n",
       "  * * xxmaj howard has an xxmaj oscar nomination for his role in xxmaj hustle & xxmaj flow .\n",
       "y: CategoryList\n",
       "pos,pos,pos,pos,pos\n",
       "Path: /root/.fastai/data/imdb;\n",
       "\n",
       "Test: None, model=SequentialRNN(\n",
       "  (0): MultiBatchEncoder(\n",
       "    (module): AWD_LSTM(\n",
       "      (encoder): Embedding(60000, 400, padding_idx=1)\n",
       "      (encoder_dp): EmbeddingDropout(\n",
       "        (emb): Embedding(60000, 400, padding_idx=1)\n",
       "      )\n",
       "      (rnns): ModuleList(\n",
       "        (0): WeightDropout(\n",
       "          (module): LSTM(400, 1152, batch_first=True)\n",
       "        )\n",
       "        (1): WeightDropout(\n",
       "          (module): LSTM(1152, 1152, batch_first=True)\n",
       "        )\n",
       "        (2): WeightDropout(\n",
       "          (module): LSTM(1152, 400, batch_first=True)\n",
       "        )\n",
       "      )\n",
       "      (input_dp): RNNDropout()\n",
       "      (hidden_dps): ModuleList(\n",
       "        (0): RNNDropout()\n",
       "        (1): RNNDropout()\n",
       "        (2): RNNDropout()\n",
       "      )\n",
       "    )\n",
       "  )\n",
       "  (1): PoolingLinearClassifier(\n",
       "    (layers): Sequential(\n",
       "      (0): BatchNorm1d(1200, eps=1e-05, momentum=0.1, affine=True, track_running_stats=True)\n",
       "      (1): Dropout(p=0.2, inplace=False)\n",
       "      (2): Linear(in_features=1200, out_features=50, bias=True)\n",
       "      (3): ReLU(inplace=True)\n",
       "      (4): BatchNorm1d(50, eps=1e-05, momentum=0.1, affine=True, track_running_stats=True)\n",
       "      (5): Dropout(p=0.1, inplace=False)\n",
       "      (6): Linear(in_features=50, out_features=2, bias=True)\n",
       "    )\n",
       "  )\n",
       "), opt_func=functools.partial(<class 'torch.optim.adam.Adam'>, betas=(0.9, 0.99)), loss_func=FlattenedLoss of CrossEntropyLoss(), metrics=[<function accuracy at 0x7f9e9a821f28>], true_wd=True, bn_wd=True, wd=0.01, train_bn=True, path=PosixPath('/root/.fastai/data/imdb'), model_dir='models', callback_fns=[functools.partial(<class 'fastai.basic_train.Recorder'>, add_time=True, silent=False)], callbacks=[...], layer_groups=[Sequential(\n",
       "  (0): Embedding(60000, 400, padding_idx=1)\n",
       "  (1): EmbeddingDropout(\n",
       "    (emb): Embedding(60000, 400, padding_idx=1)\n",
       "  )\n",
       "), Sequential(\n",
       "  (0): WeightDropout(\n",
       "    (module): LSTM(400, 1152, batch_first=True)\n",
       "  )\n",
       "  (1): RNNDropout()\n",
       "), Sequential(\n",
       "  (0): WeightDropout(\n",
       "    (module): LSTM(1152, 1152, batch_first=True)\n",
       "  )\n",
       "  (1): RNNDropout()\n",
       "), Sequential(\n",
       "  (0): WeightDropout(\n",
       "    (module): LSTM(1152, 400, batch_first=True)\n",
       "  )\n",
       "  (1): RNNDropout()\n",
       "), Sequential(\n",
       "  (0): PoolingLinearClassifier(\n",
       "    (layers): Sequential(\n",
       "      (0): BatchNorm1d(1200, eps=1e-05, momentum=0.1, affine=True, track_running_stats=True)\n",
       "      (1): Dropout(p=0.2, inplace=False)\n",
       "      (2): Linear(in_features=1200, out_features=50, bias=True)\n",
       "      (3): ReLU(inplace=True)\n",
       "      (4): BatchNorm1d(50, eps=1e-05, momentum=0.1, affine=True, track_running_stats=True)\n",
       "      (5): Dropout(p=0.1, inplace=False)\n",
       "      (6): Linear(in_features=50, out_features=2, bias=True)\n",
       "    )\n",
       "  )\n",
       ")], add_time=True, silent=False)\n",
       "alpha: 2.0\n",
       "beta: 1.0], layer_groups=[Sequential(\n",
       "  (0): Embedding(60000, 400, padding_idx=1)\n",
       "  (1): EmbeddingDropout(\n",
       "    (emb): Embedding(60000, 400, padding_idx=1)\n",
       "  )\n",
       "), Sequential(\n",
       "  (0): WeightDropout(\n",
       "    (module): LSTM(400, 1152, batch_first=True)\n",
       "  )\n",
       "  (1): RNNDropout()\n",
       "), Sequential(\n",
       "  (0): WeightDropout(\n",
       "    (module): LSTM(1152, 1152, batch_first=True)\n",
       "  )\n",
       "  (1): RNNDropout()\n",
       "), Sequential(\n",
       "  (0): WeightDropout(\n",
       "    (module): LSTM(1152, 400, batch_first=True)\n",
       "  )\n",
       "  (1): RNNDropout()\n",
       "), Sequential(\n",
       "  (0): PoolingLinearClassifier(\n",
       "    (layers): Sequential(\n",
       "      (0): BatchNorm1d(1200, eps=1e-05, momentum=0.1, affine=True, track_running_stats=True)\n",
       "      (1): Dropout(p=0.2, inplace=False)\n",
       "      (2): Linear(in_features=1200, out_features=50, bias=True)\n",
       "      (3): ReLU(inplace=True)\n",
       "      (4): BatchNorm1d(50, eps=1e-05, momentum=0.1, affine=True, track_running_stats=True)\n",
       "      (5): Dropout(p=0.1, inplace=False)\n",
       "      (6): Linear(in_features=50, out_features=2, bias=True)\n",
       "    )\n",
       "  )\n",
       ")], add_time=True, silent=False)"
      ]
     },
     "execution_count": 38,
     "metadata": {
      "tags": []
     },
     "output_type": "execute_result"
    }
   ],
   "source": [
    "learn = text_classifier_learner(data_clas, AWD_LSTM, drop_mult=0.5) #drop_mult - how much regularization\n",
    "learn.load_encoder('fine_tuned_enc') #load pre-trained model"
   ]
  },
  {
   "cell_type": "code",
   "execution_count": null,
   "metadata": {
    "colab": {
     "base_uri": "https://localhost:8080/",
     "height": 112
    },
    "colab_type": "code",
    "id": "D0-G3NQxkrBh",
    "outputId": "3957cc20-8a3f-41fc-875f-3e00915a660a"
   },
   "outputs": [
    {
     "data": {
      "text/html": [
       "\n",
       "    <div>\n",
       "        <style>\n",
       "            /* Turns off some styling */\n",
       "            progress {\n",
       "                /* gets rid of default border in Firefox and Opera. */\n",
       "                border: none;\n",
       "                /* Needs to be in here for Safari polyfill so background images work as expected. */\n",
       "                background-size: auto;\n",
       "            }\n",
       "            .progress-bar-interrupted, .progress-bar-interrupted::-webkit-progress-bar {\n",
       "                background: #F44336;\n",
       "            }\n",
       "        </style>\n",
       "      <progress value='0' class='' max='1', style='width:300px; height:20px; vertical-align: middle;'></progress>\n",
       "      0.00% [0/1 00:00<00:00]\n",
       "    </div>\n",
       "    \n",
       "<table border=\"1\" class=\"dataframe\">\n",
       "  <thead>\n",
       "    <tr style=\"text-align: left;\">\n",
       "      <th>epoch</th>\n",
       "      <th>train_loss</th>\n",
       "      <th>valid_loss</th>\n",
       "      <th>accuracy</th>\n",
       "      <th>time</th>\n",
       "    </tr>\n",
       "  </thead>\n",
       "  <tbody>\n",
       "  </tbody>\n",
       "</table><p>\n",
       "\n",
       "    <div>\n",
       "        <style>\n",
       "            /* Turns off some styling */\n",
       "            progress {\n",
       "                /* gets rid of default border in Firefox and Opera. */\n",
       "                border: none;\n",
       "                /* Needs to be in here for Safari polyfill so background images work as expected. */\n",
       "                background-size: auto;\n",
       "            }\n",
       "            .progress-bar-interrupted, .progress-bar-interrupted::-webkit-progress-bar {\n",
       "                background: #F44336;\n",
       "            }\n",
       "        </style>\n",
       "      <progress value='93' class='' max='520', style='width:300px; height:20px; vertical-align: middle;'></progress>\n",
       "      17.88% [93/520 00:57<04:23 1.8730]\n",
       "    </div>\n",
       "    "
      ],
      "text/plain": [
       "<IPython.core.display.HTML object>"
      ]
     },
     "metadata": {
      "tags": []
     },
     "output_type": "display_data"
    },
    {
     "name": "stdout",
     "output_type": "stream",
     "text": [
      "LR Finder is complete, type {learner_name}.recorder.plot() to see the graph.\n"
     ]
    }
   ],
   "source": [
    "learn.lr_find()"
   ]
  },
  {
   "cell_type": "code",
   "execution_count": null,
   "metadata": {
    "colab": {
     "base_uri": "https://localhost:8080/",
     "height": 279
    },
    "colab_type": "code",
    "id": "a3WfDOqEkrBi",
    "outputId": "bc49c630-54db-4141-ad43-08f5d69af098"
   },
   "outputs": [
    {
     "data": {
      "image/png": "[encoded data removed]",
      "text/plain": [
       "<Figure size 432x288 with 1 Axes>"
      ]
     },
     "metadata": {
      "tags": []
     },
     "output_type": "display_data"
    }
   ],
   "source": [
    "learn.recorder.plot()"
   ]
  },
  {
   "cell_type": "code",
   "execution_count": null,
   "metadata": {
    "colab": {
     "base_uri": "https://localhost:8080/",
     "height": 80
    },
    "colab_type": "code",
    "id": "OKge1Pu4krBk",
    "outputId": "1182dcd7-cafa-4345-9726-12a5621a6e21"
   },
   "outputs": [
    {
     "data": {
      "text/html": [
       "<table border=\"1\" class=\"dataframe\">\n",
       "  <thead>\n",
       "    <tr style=\"text-align: left;\">\n",
       "      <th>epoch</th>\n",
       "      <th>train_loss</th>\n",
       "      <th>valid_loss</th>\n",
       "      <th>accuracy</th>\n",
       "      <th>time</th>\n",
       "    </tr>\n",
       "  </thead>\n",
       "  <tbody>\n",
       "    <tr>\n",
       "      <td>0</td>\n",
       "      <td>0.332983</td>\n",
       "      <td>0.261171</td>\n",
       "      <td>0.894280</td>\n",
       "      <td>05:50</td>\n",
       "    </tr>\n",
       "  </tbody>\n",
       "</table>"
      ],
      "text/plain": [
       "<IPython.core.display.HTML object>"
      ]
     },
     "metadata": {
      "tags": []
     },
     "output_type": "display_data"
    }
   ],
   "source": [
    "learn.fit_one_cycle(1, 2e-2, moms=(0.8,0.7))"
   ]
  },
  {
   "cell_type": "code",
   "execution_count": null,
   "metadata": {
    "colab": {},
    "colab_type": "code",
    "id": "OqtEFLMJkrBl"
   },
   "outputs": [],
   "source": [
    "learn.save('first')"
   ]
  },
  {
   "cell_type": "code",
   "execution_count": null,
   "metadata": {
    "colab": {},
    "colab_type": "code",
    "id": "WNZhS3lCkrBn"
   },
   "outputs": [],
   "source": [
    "learn.load('first');"
   ]
  },
  {
   "cell_type": "code",
   "execution_count": null,
   "metadata": {
    "colab": {
     "base_uri": "https://localhost:8080/",
     "height": 80
    },
    "colab_type": "code",
    "id": "Tt6-8EwtkrBp",
    "outputId": "728835bd-86a9-4d48-d60b-28ef850166f8"
   },
   "outputs": [
    {
     "data": {
      "text/html": [
       "<table border=\"1\" class=\"dataframe\">\n",
       "  <thead>\n",
       "    <tr style=\"text-align: left;\">\n",
       "      <th>epoch</th>\n",
       "      <th>train_loss</th>\n",
       "      <th>valid_loss</th>\n",
       "      <th>accuracy</th>\n",
       "      <th>time</th>\n",
       "    </tr>\n",
       "  </thead>\n",
       "  <tbody>\n",
       "    <tr>\n",
       "      <td>0</td>\n",
       "      <td>0.289871</td>\n",
       "      <td>0.218540</td>\n",
       "      <td>0.912920</td>\n",
       "      <td>05:37</td>\n",
       "    </tr>\n",
       "  </tbody>\n",
       "</table>"
      ],
      "text/plain": [
       "<IPython.core.display.HTML object>"
      ]
     },
     "metadata": {
      "tags": []
     },
     "output_type": "display_data"
    }
   ],
   "source": [
    "learn.freeze_to(-2) #unfreeze last 2 layers (don't unfreeze the whole thing)\n",
    "learn.fit_one_cycle(1, slice(1e-2/(2.6**4),1e-2), moms=(0.8,0.7)) #training a little bit more"
   ]
  },
  {
   "cell_type": "code",
   "execution_count": null,
   "metadata": {
    "colab": {},
    "colab_type": "code",
    "id": "Yycv-gZrkrBq"
   },
   "outputs": [],
   "source": [
    "learn.save('second')"
   ]
  },
  {
   "cell_type": "code",
   "execution_count": null,
   "metadata": {
    "colab": {},
    "colab_type": "code",
    "id": "FKzngYMSkrBr"
   },
   "outputs": [],
   "source": [
    "learn.load('second');"
   ]
  },
  {
   "cell_type": "code",
   "execution_count": null,
   "metadata": {
    "colab": {
     "base_uri": "https://localhost:8080/",
     "height": 80
    },
    "colab_type": "code",
    "id": "W5syYPSCkrBs",
    "outputId": "1978c1a5-9746-4ad4-9f23-00a99d3982af"
   },
   "outputs": [
    {
     "data": {
      "text/html": [
       "<table border=\"1\" class=\"dataframe\">\n",
       "  <thead>\n",
       "    <tr style=\"text-align: left;\">\n",
       "      <th>epoch</th>\n",
       "      <th>train_loss</th>\n",
       "      <th>valid_loss</th>\n",
       "      <th>accuracy</th>\n",
       "      <th>time</th>\n",
       "    </tr>\n",
       "  </thead>\n",
       "  <tbody>\n",
       "    <tr>\n",
       "      <td>0</td>\n",
       "      <td>0.235444</td>\n",
       "      <td>0.186799</td>\n",
       "      <td>0.929080</td>\n",
       "      <td>05:18</td>\n",
       "    </tr>\n",
       "  </tbody>\n",
       "</table>"
      ],
      "text/plain": [
       "<IPython.core.display.HTML object>"
      ]
     },
     "metadata": {
      "tags": []
     },
     "output_type": "display_data"
    }
   ],
   "source": [
    "learn.freeze_to(-3) #unfreeze the next layer\n",
    "learn.fit_one_cycle(1, slice(5e-3/(2.6**4),5e-3), moms=(0.8,0.7)) #training a little bit more"
   ]
  },
  {
   "cell_type": "code",
   "execution_count": null,
   "metadata": {
    "colab": {},
    "colab_type": "code",
    "id": "a6RXkjgSkrBu"
   },
   "outputs": [],
   "source": [
    "learn.save('third')"
   ]
  },
  {
   "cell_type": "code",
   "execution_count": null,
   "metadata": {
    "colab": {},
    "colab_type": "code",
    "id": "yDN9PkStkrBw"
   },
   "outputs": [],
   "source": [
    "learn.load('third');"
   ]
  },
  {
   "cell_type": "code",
   "execution_count": null,
   "metadata": {
    "colab": {
     "base_uri": "https://localhost:8080/",
     "height": 111
    },
    "colab_type": "code",
    "id": "RAJ2wqdpkrBy",
    "outputId": "d8971532-4f23-49a4-e3b6-0a0e87ab6c24"
   },
   "outputs": [
    {
     "data": {
      "text/html": [
       "<table border=\"1\" class=\"dataframe\">\n",
       "  <thead>\n",
       "    <tr style=\"text-align: left;\">\n",
       "      <th>epoch</th>\n",
       "      <th>train_loss</th>\n",
       "      <th>valid_loss</th>\n",
       "      <th>accuracy</th>\n",
       "      <th>time</th>\n",
       "    </tr>\n",
       "  </thead>\n",
       "  <tbody>\n",
       "    <tr>\n",
       "      <td>0</td>\n",
       "      <td>0.208531</td>\n",
       "      <td>0.176927</td>\n",
       "      <td>0.931600</td>\n",
       "      <td>05:56</td>\n",
       "    </tr>\n",
       "    <tr>\n",
       "      <td>1</td>\n",
       "      <td>0.201276</td>\n",
       "      <td>0.179333</td>\n",
       "      <td>0.930440</td>\n",
       "      <td>05:19</td>\n",
       "    </tr>\n",
       "  </tbody>\n",
       "</table>"
      ],
      "text/plain": [
       "<IPython.core.display.HTML object>"
      ]
     },
     "metadata": {
      "tags": []
     },
     "output_type": "display_data"
    }
   ],
   "source": [
    "learn.unfreeze() #unfreeze the whole thing\n",
    "learn.fit_one_cycle(2, slice(1e-3/(2.6**4),1e-3), moms=(0.8,0.7)) #training a little bit more "
   ]
  },
  {
   "cell_type": "markdown",
   "metadata": {
    "colab_type": "text",
    "id": "NQiFwqRAhQeg"
   },
   "source": [
    "moms = Momentum's"
   ]
  },
  {
   "cell_type": "code",
   "execution_count": null,
   "metadata": {
    "colab": {
     "base_uri": "https://localhost:8080/",
     "height": 34
    },
    "colab_type": "code",
    "id": "q-V2RazWkrB1",
    "outputId": "c19a4093-f28c-44f6-dd4f-2345eeaa5ad6"
   },
   "outputs": [
    {
     "data": {
      "text/plain": [
       "(Category pos, tensor(1), tensor([1.9508e-06, 1.0000e+00]))"
      ]
     },
     "execution_count": 51,
     "metadata": {
      "tags": []
     },
     "output_type": "execute_result"
    }
   ],
   "source": [
    "learn.predict(\"I really loved that movie, it was awesome!\")"
   ]
  },
  {
   "cell_type": "markdown",
   "metadata": {},
   "source": [
    "*결과 해석 써 보시면 좋음*"
   ]
  },
  {
   "cell_type": "code",
   "execution_count": null,
   "metadata": {},
   "outputs": [],
   "source": []
  }
 ],
 "metadata": {
  "accelerator": "GPU",
  "colab": {
   "include_colab_link": true,
   "name": "lesson3-imdb(hyeseon).ipynb",
   "provenance": []
  },
  "kernelspec": {
   "display_name": "Python 3",
   "language": "python",
   "name": "python3"
  },
  "language_info": {
   "codemirror_mode": {
    "name": "ipython",
    "version": 3
   },
   "file_extension": ".py",
   "mimetype": "text/x-python",
   "name": "python",
   "nbconvert_exporter": "python",
   "pygments_lexer": "ipython3",
   "version": "3.8.2"
  }
 },
 "nbformat": 4,
 "nbformat_minor": 4
}
